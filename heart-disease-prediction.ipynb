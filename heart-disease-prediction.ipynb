{
  "nbformat": 4,
  "nbformat_minor": 0,
  "metadata": {
    "colab": {
      "provenance": [],
      "authorship_tag": "ABX9TyP8ltvtiyh7WlkvSsJ8c2jV",
      "include_colab_link": true
    },
    "kernelspec": {
      "name": "python3",
      "display_name": "Python 3"
    },
    "language_info": {
      "name": "python"
    }
  },
  "cells": [
    {
      "cell_type": "markdown",
      "metadata": {
        "id": "view-in-github",
        "colab_type": "text"
      },
      "source": [
        "<a href=\"https://colab.research.google.com/github/adalbertii/Modele-klasyfikacyjne/blob/main/heart-disease-prediction.ipynb\" target=\"_parent\"><img src=\"https://colab.research.google.com/assets/colab-badge.svg\" alt=\"Open In Colab\"/></a>"
      ]
    },
    {
      "cell_type": "code",
      "execution_count": 1,
      "metadata": {
        "colab": {
          "base_uri": "https://localhost:8080/"
        },
        "id": "wce9NN235S-M",
        "outputId": "dddca60c-7f5f-4c02-b697-2ea936bd1715"
      },
      "outputs": [
        {
          "output_type": "stream",
          "name": "stdout",
          "text": [
            "Requirement already satisfied: Keras in /usr/local/lib/python3.10/dist-packages (2.13.1)\n",
            "Collecting scikeras\n",
            "  Downloading scikeras-0.11.0-py3-none-any.whl (27 kB)\n",
            "Requirement already satisfied: packaging>=0.21 in /usr/local/lib/python3.10/dist-packages (from scikeras) (23.1)\n",
            "Requirement already satisfied: scikit-learn>=1.0.0 in /usr/local/lib/python3.10/dist-packages (from scikeras) (1.2.2)\n",
            "Requirement already satisfied: numpy>=1.17.3 in /usr/local/lib/python3.10/dist-packages (from scikit-learn>=1.0.0->scikeras) (1.23.5)\n",
            "Requirement already satisfied: scipy>=1.3.2 in /usr/local/lib/python3.10/dist-packages (from scikit-learn>=1.0.0->scikeras) (1.11.2)\n",
            "Requirement already satisfied: joblib>=1.1.1 in /usr/local/lib/python3.10/dist-packages (from scikit-learn>=1.0.0->scikeras) (1.3.2)\n",
            "Requirement already satisfied: threadpoolctl>=2.0.0 in /usr/local/lib/python3.10/dist-packages (from scikit-learn>=1.0.0->scikeras) (3.2.0)\n",
            "Installing collected packages: scikeras\n",
            "Successfully installed scikeras-0.11.0\n"
          ]
        }
      ],
      "source": [
        "! pip install Keras\n",
        "! pip install scikeras"
      ]
    },
    {
      "cell_type": "code",
      "source": [
        "import pandas as pd\n",
        "from datetime import datetime\n",
        "import numpy as np\n",
        "\n",
        "import matplotlib.pyplot as plt\n",
        "from sklearn.preprocessing import StandardScaler,OneHotEncoder\n",
        "from sklearn.preprocessing import MinMaxScaler\n",
        "from sklearn.ensemble import RandomForestRegressor\n",
        "from numpy import loadtxt\n",
        "from xgboost import XGBClassifier\n",
        "from sklearn.neighbors import KNeighborsClassifier\n",
        "from sklearn.linear_model import LogisticRegression\n",
        "from tensorflow import keras\n",
        "from sklearn.metrics import mean_squared_error, r2_score\n",
        "from sklearn.metrics import classification_report, recall_score,accuracy_score\n",
        "from keras.models import Sequential\n",
        "from keras import Input\n",
        "\n",
        "import seaborn as sns\n",
        "import tensorflow as tf\n",
        "\n",
        "from keras.layers import Dense, SimpleRNN\n",
        "from sklearn.preprocessing import LabelEncoder\n",
        "from tensorflow.keras.layers import LSTM\n",
        "from sklearn.metrics import roc_curve,auc,roc_auc_score\n",
        "from sklearn.metrics import ConfusionMatrixDisplay\n"
      ],
      "metadata": {
        "id": "xFL5TtLH5jfm"
      },
      "execution_count": 9,
      "outputs": []
    },
    {
      "cell_type": "code",
      "source": [
        "data=pd.read_csv('heart.csv')"
      ],
      "metadata": {
        "id": "Sby1ak7X6hMp"
      },
      "execution_count": 10,
      "outputs": []
    },
    {
      "cell_type": "code",
      "source": [
        "data.head()"
      ],
      "metadata": {
        "colab": {
          "base_uri": "https://localhost:8080/",
          "height": 226
        },
        "id": "gBYjz8a66r8J",
        "outputId": "a5b2fcc5-58f1-4fa5-864c-3ebba1996d82"
      },
      "execution_count": 11,
      "outputs": [
        {
          "output_type": "execute_result",
          "data": {
            "text/plain": [
              "   Age Sex ChestPainType  RestingBP  Cholesterol  FastingBS RestingECG  MaxHR  \\\n",
              "0   40   M           ATA        140          289          0     Normal    172   \n",
              "1   49   F           NAP        160          180          0     Normal    156   \n",
              "2   37   M           ATA        130          283          0         ST     98   \n",
              "3   48   F           ASY        138          214          0     Normal    108   \n",
              "4   54   M           NAP        150          195          0     Normal    122   \n",
              "\n",
              "  ExerciseAngina  Oldpeak ST_Slope  HeartDisease  \n",
              "0              N      0.0       Up             0  \n",
              "1              N      1.0     Flat             1  \n",
              "2              N      0.0       Up             0  \n",
              "3              Y      1.5     Flat             1  \n",
              "4              N      0.0       Up             0  "
            ],
            "text/html": [
              "\n",
              "  <div id=\"df-156fc793-3505-4b4b-b698-1dcbfafb36b4\" class=\"colab-df-container\">\n",
              "    <div>\n",
              "<style scoped>\n",
              "    .dataframe tbody tr th:only-of-type {\n",
              "        vertical-align: middle;\n",
              "    }\n",
              "\n",
              "    .dataframe tbody tr th {\n",
              "        vertical-align: top;\n",
              "    }\n",
              "\n",
              "    .dataframe thead th {\n",
              "        text-align: right;\n",
              "    }\n",
              "</style>\n",
              "<table border=\"1\" class=\"dataframe\">\n",
              "  <thead>\n",
              "    <tr style=\"text-align: right;\">\n",
              "      <th></th>\n",
              "      <th>Age</th>\n",
              "      <th>Sex</th>\n",
              "      <th>ChestPainType</th>\n",
              "      <th>RestingBP</th>\n",
              "      <th>Cholesterol</th>\n",
              "      <th>FastingBS</th>\n",
              "      <th>RestingECG</th>\n",
              "      <th>MaxHR</th>\n",
              "      <th>ExerciseAngina</th>\n",
              "      <th>Oldpeak</th>\n",
              "      <th>ST_Slope</th>\n",
              "      <th>HeartDisease</th>\n",
              "    </tr>\n",
              "  </thead>\n",
              "  <tbody>\n",
              "    <tr>\n",
              "      <th>0</th>\n",
              "      <td>40</td>\n",
              "      <td>M</td>\n",
              "      <td>ATA</td>\n",
              "      <td>140</td>\n",
              "      <td>289</td>\n",
              "      <td>0</td>\n",
              "      <td>Normal</td>\n",
              "      <td>172</td>\n",
              "      <td>N</td>\n",
              "      <td>0.0</td>\n",
              "      <td>Up</td>\n",
              "      <td>0</td>\n",
              "    </tr>\n",
              "    <tr>\n",
              "      <th>1</th>\n",
              "      <td>49</td>\n",
              "      <td>F</td>\n",
              "      <td>NAP</td>\n",
              "      <td>160</td>\n",
              "      <td>180</td>\n",
              "      <td>0</td>\n",
              "      <td>Normal</td>\n",
              "      <td>156</td>\n",
              "      <td>N</td>\n",
              "      <td>1.0</td>\n",
              "      <td>Flat</td>\n",
              "      <td>1</td>\n",
              "    </tr>\n",
              "    <tr>\n",
              "      <th>2</th>\n",
              "      <td>37</td>\n",
              "      <td>M</td>\n",
              "      <td>ATA</td>\n",
              "      <td>130</td>\n",
              "      <td>283</td>\n",
              "      <td>0</td>\n",
              "      <td>ST</td>\n",
              "      <td>98</td>\n",
              "      <td>N</td>\n",
              "      <td>0.0</td>\n",
              "      <td>Up</td>\n",
              "      <td>0</td>\n",
              "    </tr>\n",
              "    <tr>\n",
              "      <th>3</th>\n",
              "      <td>48</td>\n",
              "      <td>F</td>\n",
              "      <td>ASY</td>\n",
              "      <td>138</td>\n",
              "      <td>214</td>\n",
              "      <td>0</td>\n",
              "      <td>Normal</td>\n",
              "      <td>108</td>\n",
              "      <td>Y</td>\n",
              "      <td>1.5</td>\n",
              "      <td>Flat</td>\n",
              "      <td>1</td>\n",
              "    </tr>\n",
              "    <tr>\n",
              "      <th>4</th>\n",
              "      <td>54</td>\n",
              "      <td>M</td>\n",
              "      <td>NAP</td>\n",
              "      <td>150</td>\n",
              "      <td>195</td>\n",
              "      <td>0</td>\n",
              "      <td>Normal</td>\n",
              "      <td>122</td>\n",
              "      <td>N</td>\n",
              "      <td>0.0</td>\n",
              "      <td>Up</td>\n",
              "      <td>0</td>\n",
              "    </tr>\n",
              "  </tbody>\n",
              "</table>\n",
              "</div>\n",
              "    <div class=\"colab-df-buttons\">\n",
              "\n",
              "  <div class=\"colab-df-container\">\n",
              "    <button class=\"colab-df-convert\" onclick=\"convertToInteractive('df-156fc793-3505-4b4b-b698-1dcbfafb36b4')\"\n",
              "            title=\"Convert this dataframe to an interactive table.\"\n",
              "            style=\"display:none;\">\n",
              "\n",
              "  <svg xmlns=\"http://www.w3.org/2000/svg\" height=\"24px\" viewBox=\"0 -960 960 960\">\n",
              "    <path d=\"M120-120v-720h720v720H120Zm60-500h600v-160H180v160Zm220 220h160v-160H400v160Zm0 220h160v-160H400v160ZM180-400h160v-160H180v160Zm440 0h160v-160H620v160ZM180-180h160v-160H180v160Zm440 0h160v-160H620v160Z\"/>\n",
              "  </svg>\n",
              "    </button>\n",
              "\n",
              "  <style>\n",
              "    .colab-df-container {\n",
              "      display:flex;\n",
              "      gap: 12px;\n",
              "    }\n",
              "\n",
              "    .colab-df-convert {\n",
              "      background-color: #E8F0FE;\n",
              "      border: none;\n",
              "      border-radius: 50%;\n",
              "      cursor: pointer;\n",
              "      display: none;\n",
              "      fill: #1967D2;\n",
              "      height: 32px;\n",
              "      padding: 0 0 0 0;\n",
              "      width: 32px;\n",
              "    }\n",
              "\n",
              "    .colab-df-convert:hover {\n",
              "      background-color: #E2EBFA;\n",
              "      box-shadow: 0px 1px 2px rgba(60, 64, 67, 0.3), 0px 1px 3px 1px rgba(60, 64, 67, 0.15);\n",
              "      fill: #174EA6;\n",
              "    }\n",
              "\n",
              "    .colab-df-buttons div {\n",
              "      margin-bottom: 4px;\n",
              "    }\n",
              "\n",
              "    [theme=dark] .colab-df-convert {\n",
              "      background-color: #3B4455;\n",
              "      fill: #D2E3FC;\n",
              "    }\n",
              "\n",
              "    [theme=dark] .colab-df-convert:hover {\n",
              "      background-color: #434B5C;\n",
              "      box-shadow: 0px 1px 3px 1px rgba(0, 0, 0, 0.15);\n",
              "      filter: drop-shadow(0px 1px 2px rgba(0, 0, 0, 0.3));\n",
              "      fill: #FFFFFF;\n",
              "    }\n",
              "  </style>\n",
              "\n",
              "    <script>\n",
              "      const buttonEl =\n",
              "        document.querySelector('#df-156fc793-3505-4b4b-b698-1dcbfafb36b4 button.colab-df-convert');\n",
              "      buttonEl.style.display =\n",
              "        google.colab.kernel.accessAllowed ? 'block' : 'none';\n",
              "\n",
              "      async function convertToInteractive(key) {\n",
              "        const element = document.querySelector('#df-156fc793-3505-4b4b-b698-1dcbfafb36b4');\n",
              "        const dataTable =\n",
              "          await google.colab.kernel.invokeFunction('convertToInteractive',\n",
              "                                                    [key], {});\n",
              "        if (!dataTable) return;\n",
              "\n",
              "        const docLinkHtml = 'Like what you see? Visit the ' +\n",
              "          '<a target=\"_blank\" href=https://colab.research.google.com/notebooks/data_table.ipynb>data table notebook</a>'\n",
              "          + ' to learn more about interactive tables.';\n",
              "        element.innerHTML = '';\n",
              "        dataTable['output_type'] = 'display_data';\n",
              "        await google.colab.output.renderOutput(dataTable, element);\n",
              "        const docLink = document.createElement('div');\n",
              "        docLink.innerHTML = docLinkHtml;\n",
              "        element.appendChild(docLink);\n",
              "      }\n",
              "    </script>\n",
              "  </div>\n",
              "\n",
              "\n",
              "<div id=\"df-05fb1d89-98a6-4d0f-b125-0de9893445cd\">\n",
              "  <button class=\"colab-df-quickchart\" onclick=\"quickchart('df-05fb1d89-98a6-4d0f-b125-0de9893445cd')\"\n",
              "            title=\"Suggest charts.\"\n",
              "            style=\"display:none;\">\n",
              "\n",
              "<svg xmlns=\"http://www.w3.org/2000/svg\" height=\"24px\"viewBox=\"0 0 24 24\"\n",
              "     width=\"24px\">\n",
              "    <g>\n",
              "        <path d=\"M19 3H5c-1.1 0-2 .9-2 2v14c0 1.1.9 2 2 2h14c1.1 0 2-.9 2-2V5c0-1.1-.9-2-2-2zM9 17H7v-7h2v7zm4 0h-2V7h2v10zm4 0h-2v-4h2v4z\"/>\n",
              "    </g>\n",
              "</svg>\n",
              "  </button>\n",
              "\n",
              "<style>\n",
              "  .colab-df-quickchart {\n",
              "      --bg-color: #E8F0FE;\n",
              "      --fill-color: #1967D2;\n",
              "      --hover-bg-color: #E2EBFA;\n",
              "      --hover-fill-color: #174EA6;\n",
              "      --disabled-fill-color: #AAA;\n",
              "      --disabled-bg-color: #DDD;\n",
              "  }\n",
              "\n",
              "  [theme=dark] .colab-df-quickchart {\n",
              "      --bg-color: #3B4455;\n",
              "      --fill-color: #D2E3FC;\n",
              "      --hover-bg-color: #434B5C;\n",
              "      --hover-fill-color: #FFFFFF;\n",
              "      --disabled-bg-color: #3B4455;\n",
              "      --disabled-fill-color: #666;\n",
              "  }\n",
              "\n",
              "  .colab-df-quickchart {\n",
              "    background-color: var(--bg-color);\n",
              "    border: none;\n",
              "    border-radius: 50%;\n",
              "    cursor: pointer;\n",
              "    display: none;\n",
              "    fill: var(--fill-color);\n",
              "    height: 32px;\n",
              "    padding: 0;\n",
              "    width: 32px;\n",
              "  }\n",
              "\n",
              "  .colab-df-quickchart:hover {\n",
              "    background-color: var(--hover-bg-color);\n",
              "    box-shadow: 0 1px 2px rgba(60, 64, 67, 0.3), 0 1px 3px 1px rgba(60, 64, 67, 0.15);\n",
              "    fill: var(--button-hover-fill-color);\n",
              "  }\n",
              "\n",
              "  .colab-df-quickchart-complete:disabled,\n",
              "  .colab-df-quickchart-complete:disabled:hover {\n",
              "    background-color: var(--disabled-bg-color);\n",
              "    fill: var(--disabled-fill-color);\n",
              "    box-shadow: none;\n",
              "  }\n",
              "\n",
              "  .colab-df-spinner {\n",
              "    border: 2px solid var(--fill-color);\n",
              "    border-color: transparent;\n",
              "    border-bottom-color: var(--fill-color);\n",
              "    animation:\n",
              "      spin 1s steps(1) infinite;\n",
              "  }\n",
              "\n",
              "  @keyframes spin {\n",
              "    0% {\n",
              "      border-color: transparent;\n",
              "      border-bottom-color: var(--fill-color);\n",
              "      border-left-color: var(--fill-color);\n",
              "    }\n",
              "    20% {\n",
              "      border-color: transparent;\n",
              "      border-left-color: var(--fill-color);\n",
              "      border-top-color: var(--fill-color);\n",
              "    }\n",
              "    30% {\n",
              "      border-color: transparent;\n",
              "      border-left-color: var(--fill-color);\n",
              "      border-top-color: var(--fill-color);\n",
              "      border-right-color: var(--fill-color);\n",
              "    }\n",
              "    40% {\n",
              "      border-color: transparent;\n",
              "      border-right-color: var(--fill-color);\n",
              "      border-top-color: var(--fill-color);\n",
              "    }\n",
              "    60% {\n",
              "      border-color: transparent;\n",
              "      border-right-color: var(--fill-color);\n",
              "    }\n",
              "    80% {\n",
              "      border-color: transparent;\n",
              "      border-right-color: var(--fill-color);\n",
              "      border-bottom-color: var(--fill-color);\n",
              "    }\n",
              "    90% {\n",
              "      border-color: transparent;\n",
              "      border-bottom-color: var(--fill-color);\n",
              "    }\n",
              "  }\n",
              "</style>\n",
              "\n",
              "  <script>\n",
              "    async function quickchart(key) {\n",
              "      const quickchartButtonEl =\n",
              "        document.querySelector('#' + key + ' button');\n",
              "      quickchartButtonEl.disabled = true;  // To prevent multiple clicks.\n",
              "      quickchartButtonEl.classList.add('colab-df-spinner');\n",
              "      try {\n",
              "        const charts = await google.colab.kernel.invokeFunction(\n",
              "            'suggestCharts', [key], {});\n",
              "      } catch (error) {\n",
              "        console.error('Error during call to suggestCharts:', error);\n",
              "      }\n",
              "      quickchartButtonEl.classList.remove('colab-df-spinner');\n",
              "      quickchartButtonEl.classList.add('colab-df-quickchart-complete');\n",
              "    }\n",
              "    (() => {\n",
              "      let quickchartButtonEl =\n",
              "        document.querySelector('#df-05fb1d89-98a6-4d0f-b125-0de9893445cd button');\n",
              "      quickchartButtonEl.style.display =\n",
              "        google.colab.kernel.accessAllowed ? 'block' : 'none';\n",
              "    })();\n",
              "  </script>\n",
              "</div>\n",
              "    </div>\n",
              "  </div>\n"
            ]
          },
          "metadata": {},
          "execution_count": 11
        }
      ]
    },
    {
      "cell_type": "code",
      "source": [
        "data.isnull().sum()"
      ],
      "metadata": {
        "colab": {
          "base_uri": "https://localhost:8080/"
        },
        "id": "59y6_Jf-61CR",
        "outputId": "cb7bdd11-33ee-42e0-8c50-897097bae2ed"
      },
      "execution_count": 12,
      "outputs": [
        {
          "output_type": "execute_result",
          "data": {
            "text/plain": [
              "Age               0\n",
              "Sex               0\n",
              "ChestPainType     0\n",
              "RestingBP         0\n",
              "Cholesterol       0\n",
              "FastingBS         0\n",
              "RestingECG        0\n",
              "MaxHR             0\n",
              "ExerciseAngina    0\n",
              "Oldpeak           0\n",
              "ST_Slope          0\n",
              "HeartDisease      0\n",
              "dtype: int64"
            ]
          },
          "metadata": {},
          "execution_count": 12
        }
      ]
    },
    {
      "cell_type": "code",
      "source": [
        "lbl=LabelEncoder()\n",
        "categorical=['Sex','ChestPainType','RestingECG','ExerciseAngina','ST_Slope']\n",
        "for i in categorical:\n",
        "  data[i]=lbl.fit_transform(data[i])"
      ],
      "metadata": {
        "id": "1w48sFHF69kf"
      },
      "execution_count": 13,
      "outputs": []
    },
    {
      "cell_type": "code",
      "source": [
        "data"
      ],
      "metadata": {
        "colab": {
          "base_uri": "https://localhost:8080/",
          "height": 444
        },
        "id": "pHg45h525oAw",
        "outputId": "9c9a16fc-d1a9-404b-dbbe-6e0638a8c8c8"
      },
      "execution_count": 14,
      "outputs": [
        {
          "output_type": "execute_result",
          "data": {
            "text/plain": [
              "     Age  Sex  ChestPainType  RestingBP  Cholesterol  FastingBS  RestingECG  \\\n",
              "0     40    1              1        140          289          0           1   \n",
              "1     49    0              2        160          180          0           1   \n",
              "2     37    1              1        130          283          0           2   \n",
              "3     48    0              0        138          214          0           1   \n",
              "4     54    1              2        150          195          0           1   \n",
              "..   ...  ...            ...        ...          ...        ...         ...   \n",
              "913   45    1              3        110          264          0           1   \n",
              "914   68    1              0        144          193          1           1   \n",
              "915   57    1              0        130          131          0           1   \n",
              "916   57    0              1        130          236          0           0   \n",
              "917   38    1              2        138          175          0           1   \n",
              "\n",
              "     MaxHR  ExerciseAngina  Oldpeak  ST_Slope  HeartDisease  \n",
              "0      172               0      0.0         2             0  \n",
              "1      156               0      1.0         1             1  \n",
              "2       98               0      0.0         2             0  \n",
              "3      108               1      1.5         1             1  \n",
              "4      122               0      0.0         2             0  \n",
              "..     ...             ...      ...       ...           ...  \n",
              "913    132               0      1.2         1             1  \n",
              "914    141               0      3.4         1             1  \n",
              "915    115               1      1.2         1             1  \n",
              "916    174               0      0.0         1             1  \n",
              "917    173               0      0.0         2             0  \n",
              "\n",
              "[918 rows x 12 columns]"
            ],
            "text/html": [
              "\n",
              "  <div id=\"df-a84f5fdb-617a-43f3-b574-c9db202bb767\" class=\"colab-df-container\">\n",
              "    <div>\n",
              "<style scoped>\n",
              "    .dataframe tbody tr th:only-of-type {\n",
              "        vertical-align: middle;\n",
              "    }\n",
              "\n",
              "    .dataframe tbody tr th {\n",
              "        vertical-align: top;\n",
              "    }\n",
              "\n",
              "    .dataframe thead th {\n",
              "        text-align: right;\n",
              "    }\n",
              "</style>\n",
              "<table border=\"1\" class=\"dataframe\">\n",
              "  <thead>\n",
              "    <tr style=\"text-align: right;\">\n",
              "      <th></th>\n",
              "      <th>Age</th>\n",
              "      <th>Sex</th>\n",
              "      <th>ChestPainType</th>\n",
              "      <th>RestingBP</th>\n",
              "      <th>Cholesterol</th>\n",
              "      <th>FastingBS</th>\n",
              "      <th>RestingECG</th>\n",
              "      <th>MaxHR</th>\n",
              "      <th>ExerciseAngina</th>\n",
              "      <th>Oldpeak</th>\n",
              "      <th>ST_Slope</th>\n",
              "      <th>HeartDisease</th>\n",
              "    </tr>\n",
              "  </thead>\n",
              "  <tbody>\n",
              "    <tr>\n",
              "      <th>0</th>\n",
              "      <td>40</td>\n",
              "      <td>1</td>\n",
              "      <td>1</td>\n",
              "      <td>140</td>\n",
              "      <td>289</td>\n",
              "      <td>0</td>\n",
              "      <td>1</td>\n",
              "      <td>172</td>\n",
              "      <td>0</td>\n",
              "      <td>0.0</td>\n",
              "      <td>2</td>\n",
              "      <td>0</td>\n",
              "    </tr>\n",
              "    <tr>\n",
              "      <th>1</th>\n",
              "      <td>49</td>\n",
              "      <td>0</td>\n",
              "      <td>2</td>\n",
              "      <td>160</td>\n",
              "      <td>180</td>\n",
              "      <td>0</td>\n",
              "      <td>1</td>\n",
              "      <td>156</td>\n",
              "      <td>0</td>\n",
              "      <td>1.0</td>\n",
              "      <td>1</td>\n",
              "      <td>1</td>\n",
              "    </tr>\n",
              "    <tr>\n",
              "      <th>2</th>\n",
              "      <td>37</td>\n",
              "      <td>1</td>\n",
              "      <td>1</td>\n",
              "      <td>130</td>\n",
              "      <td>283</td>\n",
              "      <td>0</td>\n",
              "      <td>2</td>\n",
              "      <td>98</td>\n",
              "      <td>0</td>\n",
              "      <td>0.0</td>\n",
              "      <td>2</td>\n",
              "      <td>0</td>\n",
              "    </tr>\n",
              "    <tr>\n",
              "      <th>3</th>\n",
              "      <td>48</td>\n",
              "      <td>0</td>\n",
              "      <td>0</td>\n",
              "      <td>138</td>\n",
              "      <td>214</td>\n",
              "      <td>0</td>\n",
              "      <td>1</td>\n",
              "      <td>108</td>\n",
              "      <td>1</td>\n",
              "      <td>1.5</td>\n",
              "      <td>1</td>\n",
              "      <td>1</td>\n",
              "    </tr>\n",
              "    <tr>\n",
              "      <th>4</th>\n",
              "      <td>54</td>\n",
              "      <td>1</td>\n",
              "      <td>2</td>\n",
              "      <td>150</td>\n",
              "      <td>195</td>\n",
              "      <td>0</td>\n",
              "      <td>1</td>\n",
              "      <td>122</td>\n",
              "      <td>0</td>\n",
              "      <td>0.0</td>\n",
              "      <td>2</td>\n",
              "      <td>0</td>\n",
              "    </tr>\n",
              "    <tr>\n",
              "      <th>...</th>\n",
              "      <td>...</td>\n",
              "      <td>...</td>\n",
              "      <td>...</td>\n",
              "      <td>...</td>\n",
              "      <td>...</td>\n",
              "      <td>...</td>\n",
              "      <td>...</td>\n",
              "      <td>...</td>\n",
              "      <td>...</td>\n",
              "      <td>...</td>\n",
              "      <td>...</td>\n",
              "      <td>...</td>\n",
              "    </tr>\n",
              "    <tr>\n",
              "      <th>913</th>\n",
              "      <td>45</td>\n",
              "      <td>1</td>\n",
              "      <td>3</td>\n",
              "      <td>110</td>\n",
              "      <td>264</td>\n",
              "      <td>0</td>\n",
              "      <td>1</td>\n",
              "      <td>132</td>\n",
              "      <td>0</td>\n",
              "      <td>1.2</td>\n",
              "      <td>1</td>\n",
              "      <td>1</td>\n",
              "    </tr>\n",
              "    <tr>\n",
              "      <th>914</th>\n",
              "      <td>68</td>\n",
              "      <td>1</td>\n",
              "      <td>0</td>\n",
              "      <td>144</td>\n",
              "      <td>193</td>\n",
              "      <td>1</td>\n",
              "      <td>1</td>\n",
              "      <td>141</td>\n",
              "      <td>0</td>\n",
              "      <td>3.4</td>\n",
              "      <td>1</td>\n",
              "      <td>1</td>\n",
              "    </tr>\n",
              "    <tr>\n",
              "      <th>915</th>\n",
              "      <td>57</td>\n",
              "      <td>1</td>\n",
              "      <td>0</td>\n",
              "      <td>130</td>\n",
              "      <td>131</td>\n",
              "      <td>0</td>\n",
              "      <td>1</td>\n",
              "      <td>115</td>\n",
              "      <td>1</td>\n",
              "      <td>1.2</td>\n",
              "      <td>1</td>\n",
              "      <td>1</td>\n",
              "    </tr>\n",
              "    <tr>\n",
              "      <th>916</th>\n",
              "      <td>57</td>\n",
              "      <td>0</td>\n",
              "      <td>1</td>\n",
              "      <td>130</td>\n",
              "      <td>236</td>\n",
              "      <td>0</td>\n",
              "      <td>0</td>\n",
              "      <td>174</td>\n",
              "      <td>0</td>\n",
              "      <td>0.0</td>\n",
              "      <td>1</td>\n",
              "      <td>1</td>\n",
              "    </tr>\n",
              "    <tr>\n",
              "      <th>917</th>\n",
              "      <td>38</td>\n",
              "      <td>1</td>\n",
              "      <td>2</td>\n",
              "      <td>138</td>\n",
              "      <td>175</td>\n",
              "      <td>0</td>\n",
              "      <td>1</td>\n",
              "      <td>173</td>\n",
              "      <td>0</td>\n",
              "      <td>0.0</td>\n",
              "      <td>2</td>\n",
              "      <td>0</td>\n",
              "    </tr>\n",
              "  </tbody>\n",
              "</table>\n",
              "<p>918 rows × 12 columns</p>\n",
              "</div>\n",
              "    <div class=\"colab-df-buttons\">\n",
              "\n",
              "  <div class=\"colab-df-container\">\n",
              "    <button class=\"colab-df-convert\" onclick=\"convertToInteractive('df-a84f5fdb-617a-43f3-b574-c9db202bb767')\"\n",
              "            title=\"Convert this dataframe to an interactive table.\"\n",
              "            style=\"display:none;\">\n",
              "\n",
              "  <svg xmlns=\"http://www.w3.org/2000/svg\" height=\"24px\" viewBox=\"0 -960 960 960\">\n",
              "    <path d=\"M120-120v-720h720v720H120Zm60-500h600v-160H180v160Zm220 220h160v-160H400v160Zm0 220h160v-160H400v160ZM180-400h160v-160H180v160Zm440 0h160v-160H620v160ZM180-180h160v-160H180v160Zm440 0h160v-160H620v160Z\"/>\n",
              "  </svg>\n",
              "    </button>\n",
              "\n",
              "  <style>\n",
              "    .colab-df-container {\n",
              "      display:flex;\n",
              "      gap: 12px;\n",
              "    }\n",
              "\n",
              "    .colab-df-convert {\n",
              "      background-color: #E8F0FE;\n",
              "      border: none;\n",
              "      border-radius: 50%;\n",
              "      cursor: pointer;\n",
              "      display: none;\n",
              "      fill: #1967D2;\n",
              "      height: 32px;\n",
              "      padding: 0 0 0 0;\n",
              "      width: 32px;\n",
              "    }\n",
              "\n",
              "    .colab-df-convert:hover {\n",
              "      background-color: #E2EBFA;\n",
              "      box-shadow: 0px 1px 2px rgba(60, 64, 67, 0.3), 0px 1px 3px 1px rgba(60, 64, 67, 0.15);\n",
              "      fill: #174EA6;\n",
              "    }\n",
              "\n",
              "    .colab-df-buttons div {\n",
              "      margin-bottom: 4px;\n",
              "    }\n",
              "\n",
              "    [theme=dark] .colab-df-convert {\n",
              "      background-color: #3B4455;\n",
              "      fill: #D2E3FC;\n",
              "    }\n",
              "\n",
              "    [theme=dark] .colab-df-convert:hover {\n",
              "      background-color: #434B5C;\n",
              "      box-shadow: 0px 1px 3px 1px rgba(0, 0, 0, 0.15);\n",
              "      filter: drop-shadow(0px 1px 2px rgba(0, 0, 0, 0.3));\n",
              "      fill: #FFFFFF;\n",
              "    }\n",
              "  </style>\n",
              "\n",
              "    <script>\n",
              "      const buttonEl =\n",
              "        document.querySelector('#df-a84f5fdb-617a-43f3-b574-c9db202bb767 button.colab-df-convert');\n",
              "      buttonEl.style.display =\n",
              "        google.colab.kernel.accessAllowed ? 'block' : 'none';\n",
              "\n",
              "      async function convertToInteractive(key) {\n",
              "        const element = document.querySelector('#df-a84f5fdb-617a-43f3-b574-c9db202bb767');\n",
              "        const dataTable =\n",
              "          await google.colab.kernel.invokeFunction('convertToInteractive',\n",
              "                                                    [key], {});\n",
              "        if (!dataTable) return;\n",
              "\n",
              "        const docLinkHtml = 'Like what you see? Visit the ' +\n",
              "          '<a target=\"_blank\" href=https://colab.research.google.com/notebooks/data_table.ipynb>data table notebook</a>'\n",
              "          + ' to learn more about interactive tables.';\n",
              "        element.innerHTML = '';\n",
              "        dataTable['output_type'] = 'display_data';\n",
              "        await google.colab.output.renderOutput(dataTable, element);\n",
              "        const docLink = document.createElement('div');\n",
              "        docLink.innerHTML = docLinkHtml;\n",
              "        element.appendChild(docLink);\n",
              "      }\n",
              "    </script>\n",
              "  </div>\n",
              "\n",
              "\n",
              "<div id=\"df-b7cc8980-400b-44d6-96d9-df75ecd17770\">\n",
              "  <button class=\"colab-df-quickchart\" onclick=\"quickchart('df-b7cc8980-400b-44d6-96d9-df75ecd17770')\"\n",
              "            title=\"Suggest charts.\"\n",
              "            style=\"display:none;\">\n",
              "\n",
              "<svg xmlns=\"http://www.w3.org/2000/svg\" height=\"24px\"viewBox=\"0 0 24 24\"\n",
              "     width=\"24px\">\n",
              "    <g>\n",
              "        <path d=\"M19 3H5c-1.1 0-2 .9-2 2v14c0 1.1.9 2 2 2h14c1.1 0 2-.9 2-2V5c0-1.1-.9-2-2-2zM9 17H7v-7h2v7zm4 0h-2V7h2v10zm4 0h-2v-4h2v4z\"/>\n",
              "    </g>\n",
              "</svg>\n",
              "  </button>\n",
              "\n",
              "<style>\n",
              "  .colab-df-quickchart {\n",
              "      --bg-color: #E8F0FE;\n",
              "      --fill-color: #1967D2;\n",
              "      --hover-bg-color: #E2EBFA;\n",
              "      --hover-fill-color: #174EA6;\n",
              "      --disabled-fill-color: #AAA;\n",
              "      --disabled-bg-color: #DDD;\n",
              "  }\n",
              "\n",
              "  [theme=dark] .colab-df-quickchart {\n",
              "      --bg-color: #3B4455;\n",
              "      --fill-color: #D2E3FC;\n",
              "      --hover-bg-color: #434B5C;\n",
              "      --hover-fill-color: #FFFFFF;\n",
              "      --disabled-bg-color: #3B4455;\n",
              "      --disabled-fill-color: #666;\n",
              "  }\n",
              "\n",
              "  .colab-df-quickchart {\n",
              "    background-color: var(--bg-color);\n",
              "    border: none;\n",
              "    border-radius: 50%;\n",
              "    cursor: pointer;\n",
              "    display: none;\n",
              "    fill: var(--fill-color);\n",
              "    height: 32px;\n",
              "    padding: 0;\n",
              "    width: 32px;\n",
              "  }\n",
              "\n",
              "  .colab-df-quickchart:hover {\n",
              "    background-color: var(--hover-bg-color);\n",
              "    box-shadow: 0 1px 2px rgba(60, 64, 67, 0.3), 0 1px 3px 1px rgba(60, 64, 67, 0.15);\n",
              "    fill: var(--button-hover-fill-color);\n",
              "  }\n",
              "\n",
              "  .colab-df-quickchart-complete:disabled,\n",
              "  .colab-df-quickchart-complete:disabled:hover {\n",
              "    background-color: var(--disabled-bg-color);\n",
              "    fill: var(--disabled-fill-color);\n",
              "    box-shadow: none;\n",
              "  }\n",
              "\n",
              "  .colab-df-spinner {\n",
              "    border: 2px solid var(--fill-color);\n",
              "    border-color: transparent;\n",
              "    border-bottom-color: var(--fill-color);\n",
              "    animation:\n",
              "      spin 1s steps(1) infinite;\n",
              "  }\n",
              "\n",
              "  @keyframes spin {\n",
              "    0% {\n",
              "      border-color: transparent;\n",
              "      border-bottom-color: var(--fill-color);\n",
              "      border-left-color: var(--fill-color);\n",
              "    }\n",
              "    20% {\n",
              "      border-color: transparent;\n",
              "      border-left-color: var(--fill-color);\n",
              "      border-top-color: var(--fill-color);\n",
              "    }\n",
              "    30% {\n",
              "      border-color: transparent;\n",
              "      border-left-color: var(--fill-color);\n",
              "      border-top-color: var(--fill-color);\n",
              "      border-right-color: var(--fill-color);\n",
              "    }\n",
              "    40% {\n",
              "      border-color: transparent;\n",
              "      border-right-color: var(--fill-color);\n",
              "      border-top-color: var(--fill-color);\n",
              "    }\n",
              "    60% {\n",
              "      border-color: transparent;\n",
              "      border-right-color: var(--fill-color);\n",
              "    }\n",
              "    80% {\n",
              "      border-color: transparent;\n",
              "      border-right-color: var(--fill-color);\n",
              "      border-bottom-color: var(--fill-color);\n",
              "    }\n",
              "    90% {\n",
              "      border-color: transparent;\n",
              "      border-bottom-color: var(--fill-color);\n",
              "    }\n",
              "  }\n",
              "</style>\n",
              "\n",
              "  <script>\n",
              "    async function quickchart(key) {\n",
              "      const quickchartButtonEl =\n",
              "        document.querySelector('#' + key + ' button');\n",
              "      quickchartButtonEl.disabled = true;  // To prevent multiple clicks.\n",
              "      quickchartButtonEl.classList.add('colab-df-spinner');\n",
              "      try {\n",
              "        const charts = await google.colab.kernel.invokeFunction(\n",
              "            'suggestCharts', [key], {});\n",
              "      } catch (error) {\n",
              "        console.error('Error during call to suggestCharts:', error);\n",
              "      }\n",
              "      quickchartButtonEl.classList.remove('colab-df-spinner');\n",
              "      quickchartButtonEl.classList.add('colab-df-quickchart-complete');\n",
              "    }\n",
              "    (() => {\n",
              "      let quickchartButtonEl =\n",
              "        document.querySelector('#df-b7cc8980-400b-44d6-96d9-df75ecd17770 button');\n",
              "      quickchartButtonEl.style.display =\n",
              "        google.colab.kernel.accessAllowed ? 'block' : 'none';\n",
              "    })();\n",
              "  </script>\n",
              "</div>\n",
              "    </div>\n",
              "  </div>\n"
            ]
          },
          "metadata": {},
          "execution_count": 14
        }
      ]
    },
    {
      "cell_type": "code",
      "source": [
        "y=data['HeartDisease']\n",
        "X=data.drop('HeartDisease',axis=1)"
      ],
      "metadata": {
        "id": "_dQVjeBP7IpY"
      },
      "execution_count": 15,
      "outputs": []
    },
    {
      "cell_type": "code",
      "source": [
        "from sklearn.model_selection import train_test_split\n",
        "X_train, X_test, y_train, y_test = train_test_split(X, y, test_size=0.3, random_state=0)"
      ],
      "metadata": {
        "id": "fpnpDuU77OH-"
      },
      "execution_count": 16,
      "outputs": []
    },
    {
      "cell_type": "code",
      "source": [
        "scaler = MinMaxScaler()\n",
        "X_train=scaler.fit_transform(X_train)\n",
        "X_test=scaler.fit_transform(X_test)"
      ],
      "metadata": {
        "id": "_7Kin4S_7Q6g"
      },
      "execution_count": 17,
      "outputs": []
    },
    {
      "cell_type": "markdown",
      "source": [
        "**The Gaussian Naive Bytes Classifier**"
      ],
      "metadata": {
        "id": "UHeaYaHm7abp"
      }
    },
    {
      "cell_type": "code",
      "source": [
        "from sklearn.naive_bayes import GaussianNB\n",
        "gnb = GaussianNB()\n",
        "gnb.fit(X_train,y_train)\n",
        "y_pred=gnb.predict(X_test)\n",
        "gnb.score(X_test,y_test)\n"
      ],
      "metadata": {
        "colab": {
          "base_uri": "https://localhost:8080/"
        },
        "id": "jK02ieHN7hXS",
        "outputId": "d2f23c75-7d1b-432e-b344-034a29e3c7c5"
      },
      "execution_count": 18,
      "outputs": [
        {
          "output_type": "execute_result",
          "data": {
            "text/plain": [
              "0.8188405797101449"
            ]
          },
          "metadata": {},
          "execution_count": 18
        }
      ]
    },
    {
      "cell_type": "code",
      "source": [
        "disp = ConfusionMatrixDisplay.from_estimator(\n",
        "        gnb,\n",
        "        X_test,\n",
        "        y_test,\n",
        "        cmap=plt.cm.Blues,\n",
        "        normalize=None)\n",
        "\n",
        "disp.ax_.set_title('confusion matrix')\n",
        "\n",
        "print('Gaussian Naive Bytes Classifier')\n",
        "print(disp.confusion_matrix)\n",
        "plt.show()"
      ],
      "metadata": {
        "colab": {
          "base_uri": "https://localhost:8080/",
          "height": 527
        },
        "id": "0DCdBmpH7uMy",
        "outputId": "ced6dc6b-cc70-4b40-fa0a-62c317ab2460"
      },
      "execution_count": 24,
      "outputs": [
        {
          "output_type": "stream",
          "name": "stdout",
          "text": [
            "Gaussian Naive Bytes Classifier\n",
            "[[ 71  42]\n",
            " [  8 155]]\n"
          ]
        },
        {
          "output_type": "display_data",
          "data": {
            "text/plain": [
              "<Figure size 640x480 with 2 Axes>"
            ],
            "image/png": "[encoded data removed]"
          },
          "metadata": {}
        }
      ]
    },
    {
      "cell_type": "code",
      "source": [
        "print(\"The accuracy for Naive Bytes= \"+str(accuracy_score(y_test,y_pred)))\n",
        "print(\"Recall: \"+str(recall_score(y_test, y_pred)))"
      ],
      "metadata": {
        "colab": {
          "base_uri": "https://localhost:8080/"
        },
        "id": "eQGU-9tXEJXi",
        "outputId": "236e44a0-2b1b-4769-951a-988daa91a8a8"
      },
      "execution_count": 25,
      "outputs": [
        {
          "output_type": "stream",
          "name": "stdout",
          "text": [
            "The accuracy for Naive Bytes= 0.8188405797101449\n",
            "Recall: 0.950920245398773\n"
          ]
        }
      ]
    },
    {
      "cell_type": "markdown",
      "source": [
        "**The Logistic Regression**"
      ],
      "metadata": {
        "id": "WQM1_atXEUKi"
      }
    },
    {
      "cell_type": "code",
      "source": [
        "logisticRegressionmodel=LogisticRegression()\n",
        "logisticRegressionmodel.fit(X_train,y_train)\n",
        "y_pred=logisticRegressionmodel.predict(X_test)\n",
        "\n",
        "\n"
      ],
      "metadata": {
        "id": "eKy7QDErEYh4"
      },
      "execution_count": 26,
      "outputs": []
    },
    {
      "cell_type": "code",
      "source": [
        "\n",
        "\n",
        "disp = ConfusionMatrixDisplay.from_estimator(\n",
        "        logisticRegressionmodel,\n",
        "        X_test,\n",
        "        y_test,\n",
        "        cmap=plt.cm.Blues,\n",
        "        normalize=None)\n",
        "\n",
        "disp.ax_.set_title('confusion matrix')\n",
        "\n",
        "print('LOgistic regression')\n",
        "print(disp.confusion_matrix)\n",
        "plt.show()\n"
      ],
      "metadata": {
        "colab": {
          "base_uri": "https://localhost:8080/",
          "height": 527
        },
        "id": "Zoki_m41EiJ6",
        "outputId": "b14e620d-36e4-4e25-db9f-37a392d936ac"
      },
      "execution_count": 28,
      "outputs": [
        {
          "output_type": "stream",
          "name": "stdout",
          "text": [
            "LOgistic regression\n",
            "[[ 93  20]\n",
            " [ 26 137]]\n"
          ]
        },
        {
          "output_type": "display_data",
          "data": {
            "text/plain": [
              "<Figure size 640x480 with 2 Axes>"
            ],
            "image/png": "[encoded data removed]"
          },
          "metadata": {}
        }
      ]
    },
    {
      "cell_type": "code",
      "source": [
        "print(\"The accuracy for Logsitic Regresion= \"+str(accuracy_score(y_test,y_pred)*100))\n",
        "print(\"Recall: \"+str(recall_score(y_test, y_pred)*100))"
      ],
      "metadata": {
        "colab": {
          "base_uri": "https://localhost:8080/"
        },
        "id": "KAO98SrbFAzB",
        "outputId": "91340877-fc8a-4f44-8265-6e30848dc316"
      },
      "execution_count": 29,
      "outputs": [
        {
          "output_type": "stream",
          "name": "stdout",
          "text": [
            "The accuracy for Logsitic Regresion= 83.33333333333334\n",
            "Recall: 84.04907975460122\n"
          ]
        }
      ]
    },
    {
      "cell_type": "markdown",
      "source": [
        "KNN algorithm"
      ],
      "metadata": {
        "id": "wfUOer_4FnNC"
      }
    },
    {
      "cell_type": "code",
      "source": [
        "score=[]\n",
        "for i in range(1,50):\n",
        "    knnalgo=KNeighborsClassifier(n_neighbors=i)\n",
        "    knnalgo.fit(X_train,y_train)\n",
        "    y_pred=knnalgo.predict(X_test)\n",
        "    temp=mean_squared_error(y_test,y_pred)\n",
        "    score.append(temp)\n",
        "\n",
        "knnalgo=KNeighborsClassifier(n_neighbors=26)\n",
        "knnalgo.fit(X_train, y_train)\n",
        "y_pred = knnalgo.predict(X_test)"
      ],
      "metadata": {
        "id": "cgH0YfkYFrXJ"
      },
      "execution_count": 31,
      "outputs": []
    },
    {
      "cell_type": "code",
      "source": [
        "temp=mean_squared_error(y_test, y_pred)\n",
        "temp"
      ],
      "metadata": {
        "colab": {
          "base_uri": "https://localhost:8080/"
        },
        "id": "jwocJMZg7sPC",
        "outputId": "d78140f9-38fc-4101-e598-35a71c090235"
      },
      "execution_count": 33,
      "outputs": [
        {
          "output_type": "execute_result",
          "data": {
            "text/plain": [
              "0.16666666666666666"
            ]
          },
          "metadata": {},
          "execution_count": 33
        }
      ]
    },
    {
      "cell_type": "code",
      "source": [
        "disp = ConfusionMatrixDisplay.from_estimator(\n",
        "        knnalgo,\n",
        "        X_test,\n",
        "        y_test,\n",
        "        cmap=plt.cm.Blues,\n",
        "        normalize=None)\n",
        "\n",
        "disp.ax_.set_title('confusion matrix')\n",
        "\n",
        "print('KNN algorithm')\n",
        "print(disp.confusion_matrix)\n",
        "plt.show()\n"
      ],
      "metadata": {
        "colab": {
          "base_uri": "https://localhost:8080/",
          "height": 527
        },
        "id": "esr1bxERF6tZ",
        "outputId": "a139edab-d75b-4ab6-c8e9-ce523370404f"
      },
      "execution_count": 35,
      "outputs": [
        {
          "output_type": "stream",
          "name": "stdout",
          "text": [
            "KNN algorithm\n",
            "[[ 88  25]\n",
            " [ 21 142]]\n"
          ]
        },
        {
          "output_type": "display_data",
          "data": {
            "text/plain": [
              "<Figure size 640x480 with 2 Axes>"
            ],
            "image/png": "[encoded data removed]"
          },
          "metadata": {}
        }
      ]
    },
    {
      "cell_type": "code",
      "source": [
        "print(\"The accuracy for Naive Bytes= \"+str(accuracy_score(y_test,y_pred)*100))\n",
        "print(\"Recall: \"+str(recall_score(y_test, y_pred)*100))"
      ],
      "metadata": {
        "colab": {
          "base_uri": "https://localhost:8080/"
        },
        "id": "3uJdlWxPGdwq",
        "outputId": "c8a0b219-913a-4390-f9d9-aa5a0924feee"
      },
      "execution_count": 36,
      "outputs": [
        {
          "output_type": "stream",
          "name": "stdout",
          "text": [
            "The accuracy for Naive Bytes= 83.33333333333334\n",
            "Recall: 87.11656441717791\n"
          ]
        }
      ]
    },
    {
      "cell_type": "markdown",
      "source": [
        "**RandomForestRegressor**"
      ],
      "metadata": {
        "id": "HrCgxZ7vJ_xD"
      }
    },
    {
      "cell_type": "code",
      "source": [
        "regressor = RandomForestRegressor(n_estimators = 75,max_depth=4)\n",
        "regressor.fit(X_train,y_train)\n",
        "y_pred=regressor.predict(X_test)\n",
        "y_pred=(y_pred>0.5)\n",
        "\n",
        "y_test=list(y_test)\n",
        "y_pred=list(y_pred)\n",
        "\n",
        "\n",
        "pred_train=regressor.predict(X_train)\n",
        "pred_train=(pred_train>0.5)\n",
        "\n",
        "print(\"The accuracy for Random Forest Regressor= \"+str(accuracy_score(y_train,pred_train)*100))\n",
        "print(\"Recall: \"+str(recall_score(y_train, pred_train)*100))\n",
        "\n",
        "print(\"The Test accuracy for Random Forest Regressor= \"+str(accuracy_score(y_test,y_pred)*100))\n",
        "print(\"Test Recall: \"+str(recall_score(y_test, y_pred)*100))"
      ],
      "metadata": {
        "colab": {
          "base_uri": "https://localhost:8080/"
        },
        "id": "RO77tw8RKCEs",
        "outputId": "1711d421-2c0b-487f-f5c7-5d5508c778f8"
      },
      "execution_count": 37,
      "outputs": [
        {
          "output_type": "stream",
          "name": "stdout",
          "text": [
            "The accuracy for Random Forest Regressor= 90.96573208722741\n",
            "Recall: 93.6231884057971\n",
            "The Test accuracy for Random Forest Regressor= 83.33333333333334\n",
            "Test Recall: 83.43558282208589\n"
          ]
        }
      ]
    },
    {
      "cell_type": "code",
      "source": [
        "conf_train=confusion_matrix(y_train,pred_train)\n",
        "print(\"Accuracy: \"+str(accuracy_score(y_train,pred_train)*100))\n",
        "print(\"Recall: \"+str(recall_score(y_train, pred_train)*100))\n",
        "ax = sns.heatmap(conf_train/np.sum(conf_train), annot=True,\n",
        "            fmt='.2%', cmap='Blues')\n",
        "\n",
        "ax.set_title('Train Data');\n",
        "ax.set_xlabel('\\nPredicted Values')\n",
        "ax.set_ylabel('Actual Values ');\n",
        "\n",
        "ax.xaxis.set_ticklabels(['False','True'])\n",
        "ax.yaxis.set_ticklabels(['False','True'])\n",
        "\n",
        "plt.show()"
      ],
      "metadata": {
        "colab": {
          "base_uri": "https://localhost:8080/",
          "height": 525
        },
        "id": "QGLHRufQKgr6",
        "outputId": "a6deb41f-fed5-4ae5-83da-2f145a6f8bad"
      },
      "execution_count": 38,
      "outputs": [
        {
          "output_type": "stream",
          "name": "stdout",
          "text": [
            "Accuracy: 90.96573208722741\n",
            "Recall: 93.6231884057971\n"
          ]
        },
        {
          "output_type": "display_data",
          "data": {
            "text/plain": [
              "<Figure size 640x480 with 2 Axes>"
            ],
            "image/png": "[encoded data removed]"
          },
          "metadata": {}
        }
      ]
    },
    {
      "cell_type": "code",
      "source": [
        "conf_test=confusion_matrix(y_test,y_pred)\n",
        "print(\"Accuracy: \"+str(accuracy_score(y_test,y_pred)*100))\n",
        "print(\"Recall: \"+str(recall_score(y_test, y_pred)*100))\n",
        "ax = sns.heatmap(conf_test/np.sum(conf_test), annot=True,\n",
        "            fmt='.2%', cmap='Blues')\n",
        "\n",
        "ax.set_title('Test Data\\n\\n');\n",
        "ax.set_xlabel('\\nPredicted Values')\n",
        "ax.set_ylabel('Actual Values ');\n",
        "\n",
        "## Ticket labels - List must be in alphabetical order\n",
        "ax.xaxis.set_ticklabels(['False','True'])\n",
        "ax.yaxis.set_ticklabels(['False','True'])\n",
        "\n",
        "## Display the visualization of the Confusion Matrix.\n",
        "plt.show()"
      ],
      "metadata": {
        "colab": {
          "base_uri": "https://localhost:8080/",
          "height": 567
        },
        "id": "uBaGd3teKrul",
        "outputId": "26c7e436-27cc-424f-9bc6-922d1c8f5d21"
      },
      "execution_count": 39,
      "outputs": [
        {
          "output_type": "stream",
          "name": "stdout",
          "text": [
            "Accuracy: 83.33333333333334\n",
            "Recall: 83.43558282208589\n"
          ]
        },
        {
          "output_type": "display_data",
          "data": {
            "text/plain": [
              "<Figure size 640x480 with 2 Axes>"
            ],
            "image/png": "[encoded data removed]"
          },
          "metadata": {}
        }
      ]
    },
    {
      "cell_type": "code",
      "source": [
        "false_positive_rate1, true_positive_rate1, threshold1 = roc_curve(y_test, y_pred)\n",
        "auc=roc_auc_score(y_test,y_pred)\n",
        "print(auc)\n",
        "plt.subplots(1, figsize=(10,10))\n",
        "plt.title('ROC Curve for Heart Disease Predictor')\n",
        "plt.plot(false_positive_rate1, true_positive_rate1)\n",
        "plt.plot([0, 1], ls=\"--\")\n",
        "plt.plot([0, 0], [1, 0] , c=\".7\"), plt.plot([1, 1] , c=\".7\")\n",
        "plt.ylabel('True Positive Rate')\n",
        "plt.xlabel('False Positive Rate')\n",
        "plt.show()"
      ],
      "metadata": {
        "colab": {
          "base_uri": "https://localhost:8080/",
          "height": 890
        },
        "id": "BL1G6tdyK1JH",
        "outputId": "d44cc7c1-483c-4373-e90c-176d453fa18e"
      },
      "execution_count": 40,
      "outputs": [
        {
          "output_type": "stream",
          "name": "stdout",
          "text": [
            "0.8331071176502525\n"
          ]
        },
        {
          "output_type": "display_data",
          "data": {
            "text/plain": [
              "<Figure size 1000x1000 with 1 Axes>"
            ],
            "image/png": "[encoded data removed]"
          },
          "metadata": {}
        }
      ]
    },
    {
      "cell_type": "markdown",
      "source": [
        "**ANN Model**"
      ],
      "metadata": {
        "id": "wVlAmQ-5K_ae"
      }
    },
    {
      "cell_type": "code",
      "source": [
        "annmodel = Sequential([Dense(units=4,input_shape=(11,),activation='relu'),\n",
        "                    Dense(units=6,activation='relu'),\n",
        "                    keras.layers.Dropout(0.3),\n",
        "                    Dense(units=8,activation='relu'),\n",
        "                    keras.layers.Dropout(0.3),\n",
        "                    Dense(units=1,activation='sigmoid')])"
      ],
      "metadata": {
        "id": "85E3YrvsLGP7"
      },
      "execution_count": 41,
      "outputs": []
    },
    {
      "cell_type": "code",
      "source": [
        "annmodel.compile(optimizer='adam',loss='binary_crossentropy',metrics=['accuracy'])"
      ],
      "metadata": {
        "id": "ytBqHjD4LLU6"
      },
      "execution_count": 42,
      "outputs": []
    },
    {
      "cell_type": "code",
      "source": [
        "annmodel.fit(X_train, y_train,\n",
        "          batch_size=1,\n",
        "          epochs=100,\n",
        "          verbose='auto')"
      ],
      "metadata": {
        "colab": {
          "base_uri": "https://localhost:8080/"
        },
        "id": "21JL3GnQLRV0",
        "outputId": "57392df9-2625-449f-b590-8ccd4269ff68"
      },
      "execution_count": 43,
      "outputs": [
        {
          "output_type": "stream",
          "name": "stdout",
          "text": [
            "Epoch 1/100\n",
            "642/642 [==============================] - 6s 4ms/step - loss: 0.6930 - accuracy: 0.5000\n",
            "Epoch 2/100\n",
            "642/642 [==============================] - 2s 3ms/step - loss: 0.6908 - accuracy: 0.5530\n",
            "Epoch 3/100\n",
            "642/642 [==============================] - 2s 3ms/step - loss: 0.6750 - accuracy: 0.6604\n",
            "Epoch 4/100\n",
            "642/642 [==============================] - 1s 2ms/step - loss: 0.6167 - accuracy: 0.7165\n",
            "Epoch 5/100\n",
            "642/642 [==============================] - 1s 2ms/step - loss: 0.5846 - accuracy: 0.7430\n",
            "Epoch 6/100\n",
            "642/642 [==============================] - 2s 2ms/step - loss: 0.5811 - accuracy: 0.7290\n",
            "Epoch 7/100\n",
            "642/642 [==============================] - 1s 2ms/step - loss: 0.5746 - accuracy: 0.7336\n",
            "Epoch 8/100\n",
            "642/642 [==============================] - 1s 2ms/step - loss: 0.5487 - accuracy: 0.7461\n",
            "Epoch 9/100\n",
            "642/642 [==============================] - 1s 2ms/step - loss: 0.5403 - accuracy: 0.7648\n",
            "Epoch 10/100\n",
            "642/642 [==============================] - 1s 2ms/step - loss: 0.5415 - accuracy: 0.7477\n",
            "Epoch 11/100\n",
            "642/642 [==============================] - 1s 2ms/step - loss: 0.5422 - accuracy: 0.7477\n",
            "Epoch 12/100\n",
            "642/642 [==============================] - 1s 2ms/step - loss: 0.5482 - accuracy: 0.7399\n",
            "Epoch 13/100\n",
            "642/642 [==============================] - 1s 2ms/step - loss: 0.5640 - accuracy: 0.7243\n",
            "Epoch 14/100\n",
            "642/642 [==============================] - 1s 2ms/step - loss: 0.5295 - accuracy: 0.7586\n",
            "Epoch 15/100\n",
            "642/642 [==============================] - 1s 2ms/step - loss: 0.5484 - accuracy: 0.7445\n",
            "Epoch 16/100\n",
            "642/642 [==============================] - 1s 2ms/step - loss: 0.5390 - accuracy: 0.7430\n",
            "Epoch 17/100\n",
            "642/642 [==============================] - 2s 2ms/step - loss: 0.5475 - accuracy: 0.7461\n",
            "Epoch 18/100\n",
            "642/642 [==============================] - 1s 2ms/step - loss: 0.5272 - accuracy: 0.7617\n",
            "Epoch 19/100\n",
            "642/642 [==============================] - 1s 2ms/step - loss: 0.5564 - accuracy: 0.7399\n",
            "Epoch 20/100\n",
            "642/642 [==============================] - 1s 2ms/step - loss: 0.5215 - accuracy: 0.7492\n",
            "Epoch 21/100\n",
            "642/642 [==============================] - 1s 2ms/step - loss: 0.5295 - accuracy: 0.7555\n",
            "Epoch 22/100\n",
            "642/642 [==============================] - 1s 2ms/step - loss: 0.5687 - accuracy: 0.7227\n",
            "Epoch 23/100\n",
            "642/642 [==============================] - 1s 2ms/step - loss: 0.5300 - accuracy: 0.7555\n",
            "Epoch 24/100\n",
            "642/642 [==============================] - 2s 3ms/step - loss: 0.5052 - accuracy: 0.7679\n",
            "Epoch 25/100\n",
            "642/642 [==============================] - 1s 2ms/step - loss: 0.5330 - accuracy: 0.7539\n",
            "Epoch 26/100\n",
            "642/642 [==============================] - 1s 2ms/step - loss: 0.5422 - accuracy: 0.7352\n",
            "Epoch 27/100\n",
            "642/642 [==============================] - 1s 2ms/step - loss: 0.5098 - accuracy: 0.7461\n",
            "Epoch 28/100\n",
            "642/642 [==============================] - 1s 2ms/step - loss: 0.5017 - accuracy: 0.7383\n",
            "Epoch 29/100\n",
            "642/642 [==============================] - 1s 2ms/step - loss: 0.4740 - accuracy: 0.7741\n",
            "Epoch 30/100\n",
            "642/642 [==============================] - 1s 2ms/step - loss: 0.4783 - accuracy: 0.7570\n",
            "Epoch 31/100\n",
            "642/642 [==============================] - 1s 2ms/step - loss: 0.4859 - accuracy: 0.7523\n",
            "Epoch 32/100\n",
            "642/642 [==============================] - 1s 2ms/step - loss: 0.4710 - accuracy: 0.7508\n",
            "Epoch 33/100\n",
            "642/642 [==============================] - 1s 2ms/step - loss: 0.4898 - accuracy: 0.7430\n",
            "Epoch 34/100\n",
            "642/642 [==============================] - 1s 2ms/step - loss: 0.4899 - accuracy: 0.7352\n",
            "Epoch 35/100\n",
            "642/642 [==============================] - 1s 2ms/step - loss: 0.4790 - accuracy: 0.7617\n",
            "Epoch 36/100\n",
            "642/642 [==============================] - 1s 2ms/step - loss: 0.4728 - accuracy: 0.7352\n",
            "Epoch 37/100\n",
            "642/642 [==============================] - 1s 2ms/step - loss: 0.4846 - accuracy: 0.7508\n",
            "Epoch 38/100\n",
            "642/642 [==============================] - 2s 3ms/step - loss: 0.4903 - accuracy: 0.7414\n",
            "Epoch 39/100\n",
            "642/642 [==============================] - 1s 2ms/step - loss: 0.4760 - accuracy: 0.7383\n",
            "Epoch 40/100\n",
            "642/642 [==============================] - 1s 2ms/step - loss: 0.4842 - accuracy: 0.7555\n",
            "Epoch 41/100\n",
            "642/642 [==============================] - 1s 2ms/step - loss: 0.4706 - accuracy: 0.7586\n",
            "Epoch 42/100\n",
            "642/642 [==============================] - 1s 2ms/step - loss: 0.4767 - accuracy: 0.7477\n",
            "Epoch 43/100\n",
            "642/642 [==============================] - 1s 2ms/step - loss: 0.4501 - accuracy: 0.7492\n",
            "Epoch 44/100\n",
            "642/642 [==============================] - 1s 2ms/step - loss: 0.4588 - accuracy: 0.7461\n",
            "Epoch 45/100\n",
            "642/642 [==============================] - 1s 2ms/step - loss: 0.4604 - accuracy: 0.7305\n",
            "Epoch 46/100\n",
            "642/642 [==============================] - 1s 2ms/step - loss: 0.4583 - accuracy: 0.7290\n",
            "Epoch 47/100\n",
            "642/642 [==============================] - 1s 2ms/step - loss: 0.4379 - accuracy: 0.7555\n",
            "Epoch 48/100\n",
            "642/642 [==============================] - 1s 2ms/step - loss: 0.4246 - accuracy: 0.7679\n",
            "Epoch 49/100\n",
            "642/642 [==============================] - 2s 3ms/step - loss: 0.4354 - accuracy: 0.7773\n",
            "Epoch 50/100\n",
            "642/642 [==============================] - 1s 2ms/step - loss: 0.4459 - accuracy: 0.8069\n",
            "Epoch 51/100\n",
            "642/642 [==============================] - 1s 2ms/step - loss: 0.4534 - accuracy: 0.7866\n",
            "Epoch 52/100\n",
            "642/642 [==============================] - 1s 2ms/step - loss: 0.4326 - accuracy: 0.8069\n",
            "Epoch 53/100\n",
            "642/642 [==============================] - 1s 2ms/step - loss: 0.4647 - accuracy: 0.8069\n",
            "Epoch 54/100\n",
            "642/642 [==============================] - 1s 2ms/step - loss: 0.4413 - accuracy: 0.8146\n",
            "Epoch 55/100\n",
            "642/642 [==============================] - 1s 2ms/step - loss: 0.4237 - accuracy: 0.8178\n",
            "Epoch 56/100\n",
            "642/642 [==============================] - 1s 2ms/step - loss: 0.4297 - accuracy: 0.8084\n",
            "Epoch 57/100\n",
            "642/642 [==============================] - 1s 2ms/step - loss: 0.4349 - accuracy: 0.8053\n",
            "Epoch 58/100\n",
            "642/642 [==============================] - 1s 2ms/step - loss: 0.4284 - accuracy: 0.8178\n",
            "Epoch 59/100\n",
            "642/642 [==============================] - 2s 4ms/step - loss: 0.4343 - accuracy: 0.7897\n",
            "Epoch 60/100\n",
            "642/642 [==============================] - 3s 4ms/step - loss: 0.4455 - accuracy: 0.8069\n",
            "Epoch 61/100\n",
            "642/642 [==============================] - 1s 2ms/step - loss: 0.4350 - accuracy: 0.8084\n",
            "Epoch 62/100\n",
            "642/642 [==============================] - 1s 2ms/step - loss: 0.4248 - accuracy: 0.8084\n",
            "Epoch 63/100\n",
            "642/642 [==============================] - 1s 2ms/step - loss: 0.4369 - accuracy: 0.8115\n",
            "Epoch 64/100\n",
            "642/642 [==============================] - 1s 2ms/step - loss: 0.4406 - accuracy: 0.8053\n",
            "Epoch 65/100\n",
            "642/642 [==============================] - 1s 2ms/step - loss: 0.4391 - accuracy: 0.8084\n",
            "Epoch 66/100\n",
            "642/642 [==============================] - 1s 2ms/step - loss: 0.4267 - accuracy: 0.8084\n",
            "Epoch 67/100\n",
            "642/642 [==============================] - 1s 2ms/step - loss: 0.4399 - accuracy: 0.7975\n",
            "Epoch 68/100\n",
            "642/642 [==============================] - 1s 2ms/step - loss: 0.4367 - accuracy: 0.7928\n",
            "Epoch 69/100\n",
            "642/642 [==============================] - 2s 2ms/step - loss: 0.4061 - accuracy: 0.8178\n",
            "Epoch 70/100\n",
            "642/642 [==============================] - 2s 2ms/step - loss: 0.4206 - accuracy: 0.8069\n",
            "Epoch 71/100\n",
            "642/642 [==============================] - 1s 2ms/step - loss: 0.4136 - accuracy: 0.8255\n",
            "Epoch 72/100\n",
            "642/642 [==============================] - 1s 2ms/step - loss: 0.4111 - accuracy: 0.8022\n",
            "Epoch 73/100\n",
            "642/642 [==============================] - 1s 2ms/step - loss: 0.4312 - accuracy: 0.7991\n",
            "Epoch 74/100\n",
            "642/642 [==============================] - 1s 2ms/step - loss: 0.4150 - accuracy: 0.7991\n",
            "Epoch 75/100\n",
            "642/642 [==============================] - 1s 2ms/step - loss: 0.4156 - accuracy: 0.8084\n",
            "Epoch 76/100\n",
            "642/642 [==============================] - 1s 2ms/step - loss: 0.4232 - accuracy: 0.8131\n",
            "Epoch 77/100\n",
            "642/642 [==============================] - 2s 3ms/step - loss: 0.4199 - accuracy: 0.8100\n",
            "Epoch 78/100\n",
            "642/642 [==============================] - 1s 2ms/step - loss: 0.4091 - accuracy: 0.8022\n",
            "Epoch 79/100\n",
            "642/642 [==============================] - 1s 2ms/step - loss: 0.4319 - accuracy: 0.8006\n",
            "Epoch 80/100\n",
            "642/642 [==============================] - 2s 3ms/step - loss: 0.4274 - accuracy: 0.7991\n",
            "Epoch 81/100\n",
            "642/642 [==============================] - 1s 2ms/step - loss: 0.4179 - accuracy: 0.8069\n",
            "Epoch 82/100\n",
            "642/642 [==============================] - 1s 2ms/step - loss: 0.4182 - accuracy: 0.8255\n",
            "Epoch 83/100\n",
            "642/642 [==============================] - 1s 2ms/step - loss: 0.4330 - accuracy: 0.8115\n",
            "Epoch 84/100\n",
            "642/642 [==============================] - 1s 2ms/step - loss: 0.4018 - accuracy: 0.8287\n",
            "Epoch 85/100\n",
            "642/642 [==============================] - 1s 2ms/step - loss: 0.4297 - accuracy: 0.8022\n",
            "Epoch 86/100\n",
            "642/642 [==============================] - 2s 2ms/step - loss: 0.4232 - accuracy: 0.8069\n",
            "Epoch 87/100\n",
            "642/642 [==============================] - 1s 2ms/step - loss: 0.4180 - accuracy: 0.8084\n",
            "Epoch 88/100\n",
            "642/642 [==============================] - 1s 2ms/step - loss: 0.4285 - accuracy: 0.8037\n",
            "Epoch 89/100\n",
            "642/642 [==============================] - 2s 3ms/step - loss: 0.3979 - accuracy: 0.8193\n",
            "Epoch 90/100\n",
            "642/642 [==============================] - 2s 2ms/step - loss: 0.4246 - accuracy: 0.7913\n",
            "Epoch 91/100\n",
            "642/642 [==============================] - 1s 2ms/step - loss: 0.4327 - accuracy: 0.7960\n",
            "Epoch 92/100\n",
            "642/642 [==============================] - 1s 2ms/step - loss: 0.4193 - accuracy: 0.7897\n",
            "Epoch 93/100\n",
            "642/642 [==============================] - 1s 2ms/step - loss: 0.3999 - accuracy: 0.8240\n",
            "Epoch 94/100\n",
            "642/642 [==============================] - 1s 2ms/step - loss: 0.4135 - accuracy: 0.8193\n",
            "Epoch 95/100\n",
            "642/642 [==============================] - 1s 2ms/step - loss: 0.4167 - accuracy: 0.8131\n",
            "Epoch 96/100\n",
            "642/642 [==============================] - 1s 2ms/step - loss: 0.4170 - accuracy: 0.7991\n",
            "Epoch 97/100\n",
            "642/642 [==============================] - 1s 2ms/step - loss: 0.4101 - accuracy: 0.8162\n",
            "Epoch 98/100\n",
            "642/642 [==============================] - 1s 2ms/step - loss: 0.4140 - accuracy: 0.8115\n",
            "Epoch 99/100\n",
            "642/642 [==============================] - 1s 2ms/step - loss: 0.3940 - accuracy: 0.8084\n",
            "Epoch 100/100\n",
            "642/642 [==============================] - 2s 2ms/step - loss: 0.4136 - accuracy: 0.8224\n"
          ]
        },
        {
          "output_type": "execute_result",
          "data": {
            "text/plain": [
              "<keras.src.callbacks.History at 0x7b74e411d7b0>"
            ]
          },
          "metadata": {},
          "execution_count": 43
        }
      ]
    },
    {
      "cell_type": "code",
      "source": [
        "pred_train = annmodel.predict(X_train)\n",
        "pred_test = annmodel.predict(X_test)\n",
        "pred_train = (pred_train > 0.5)\n",
        "pred_test = (pred_test > 0.5)\n",
        "\n",
        "print(\"\")\n",
        "print('-------------------- Model Summary --------------------')\n",
        "annmodel.summary()\n",
        "print(\"\")\n",
        "print('---------- Evaluation on Training Data ----------')\n",
        "print(\"Accuracy (on train data): \", accuracy_score(y_train, pred_train)*100)\n",
        "print(\"\")\n",
        "print(\"Recall (on train data): \", recall_score(y_train, pred_train)*100)\n",
        "print(\"\")\n",
        "\n",
        "\n",
        "print('---------- Evaluation on Test Data ----------')\n",
        "print(\"Accuracy (on test data):  \", accuracy_score(y_test, pred_test)*100)\n",
        "print(\"\")\n",
        "print(\"Recall (on test data):  \", recall_score(y_test, pred_test)*100)\n",
        "print(\"\")"
      ],
      "metadata": {
        "colab": {
          "base_uri": "https://localhost:8080/"
        },
        "id": "lZ-H-6UPL6Z3",
        "outputId": "b3f89e78-66f1-4f45-f97c-c02598b61e62"
      },
      "execution_count": 44,
      "outputs": [
        {
          "output_type": "stream",
          "name": "stdout",
          "text": [
            "21/21 [==============================] - 0s 6ms/step\n",
            "9/9 [==============================] - 0s 2ms/step\n",
            "\n",
            "-------------------- Model Summary --------------------\n",
            "Model: \"sequential\"\n",
            "_________________________________________________________________\n",
            " Layer (type)                Output Shape              Param #   \n",
            "=================================================================\n",
            " dense (Dense)               (None, 4)                 48        \n",
            "                                                                 \n",
            " dense_1 (Dense)             (None, 6)                 30        \n",
            "                                                                 \n",
            " dropout (Dropout)           (None, 6)                 0         \n",
            "                                                                 \n",
            " dense_2 (Dense)             (None, 8)                 56        \n",
            "                                                                 \n",
            " dropout_1 (Dropout)         (None, 8)                 0         \n",
            "                                                                 \n",
            " dense_3 (Dense)             (None, 1)                 9         \n",
            "                                                                 \n",
            "=================================================================\n",
            "Total params: 143 (572.00 Byte)\n",
            "Trainable params: 143 (572.00 Byte)\n",
            "Non-trainable params: 0 (0.00 Byte)\n",
            "_________________________________________________________________\n",
            "\n",
            "---------- Evaluation on Training Data ----------\n",
            "Accuracy (on train data):  87.22741433021807\n",
            "\n",
            "Recall (on train data):  92.7536231884058\n",
            "\n",
            "---------- Evaluation on Test Data ----------\n",
            "Accuracy (on test data):   84.05797101449275\n",
            "\n",
            "Recall (on test data):   86.50306748466258\n",
            "\n"
          ]
        }
      ]
    },
    {
      "cell_type": "code",
      "source": [
        "conf_train=confusion_matrix(y_train,pred_train)\n",
        "print(\"Accuracy: \"+str(accuracy_score(y_train,pred_train)*100))\n",
        "print(\"Recall: \"+str(recall_score(y_train, pred_train)*100))\n",
        "ax = sns.heatmap(conf_train/np.sum(conf_train), annot=True,\n",
        "            fmt='.2%', cmap='Blues')\n",
        "\n",
        "ax.set_title('Train Data');\n",
        "ax.set_xlabel('\\nPredicted Values')\n",
        "ax.set_ylabel('Actual Values ');\n",
        "\n",
        "ax.xaxis.set_ticklabels(['False','True'])\n",
        "ax.yaxis.set_ticklabels(['False','True'])\n",
        "\n",
        "plt.show()"
      ],
      "metadata": {
        "colab": {
          "base_uri": "https://localhost:8080/",
          "height": 525
        },
        "id": "Gql-4_gUMCtd",
        "outputId": "5a64a4ba-e92a-4e21-b72a-d422534895f0"
      },
      "execution_count": 45,
      "outputs": [
        {
          "output_type": "stream",
          "name": "stdout",
          "text": [
            "Accuracy: 87.22741433021807\n",
            "Recall: 92.7536231884058\n"
          ]
        },
        {
          "output_type": "display_data",
          "data": {
            "text/plain": [
              "<Figure size 640x480 with 2 Axes>"
            ],
            "image/png": "[encoded data removed]"
          },
          "metadata": {}
        }
      ]
    },
    {
      "cell_type": "code",
      "source": [
        "conf_test=confusion_matrix(y_test,pred_test)\n",
        "print(\"Accuracy: \"+str(accuracy_score(y_test,pred_test)*100))\n",
        "print(\"Recall: \"+str(recall_score(y_test, pred_test)*100))\n",
        "ax = sns.heatmap(conf_test/np.sum(conf_test), annot=True,\n",
        "            fmt='.2%', cmap='Blues')\n",
        "\n",
        "ax.set_title('Test Data\\n\\n');\n",
        "ax.set_xlabel('\\nPredicted Values')\n",
        "ax.set_ylabel('Actual Values ');\n",
        "\n",
        "## Ticket labels - List must be in alphabetical order\n",
        "ax.xaxis.set_ticklabels(['False','True'])\n",
        "ax.yaxis.set_ticklabels(['False','True'])\n",
        "\n",
        "## Display the visualization of the Confusion Matrix.\n",
        "plt.show()"
      ],
      "metadata": {
        "colab": {
          "base_uri": "https://localhost:8080/",
          "height": 567
        },
        "id": "yutVlqASMLp4",
        "outputId": "46ae9cd8-a38a-4d44-9c96-a2f9558e2fd1"
      },
      "execution_count": 46,
      "outputs": [
        {
          "output_type": "stream",
          "name": "stdout",
          "text": [
            "Accuracy: 84.05797101449275\n",
            "Recall: 86.50306748466258\n"
          ]
        },
        {
          "output_type": "display_data",
          "data": {
            "text/plain": [
              "<Figure size 640x480 with 2 Axes>"
            ],
            "image/png": "[encoded data removed]"
          },
          "metadata": {}
        }
      ]
    },
    {
      "cell_type": "code",
      "source": [
        "false_positive_rate1, true_positive_rate1, threshold1 = roc_curve(y_test, pred_test)\n",
        "auc=roc_auc_score(y_test,pred_test)\n",
        "print(auc)\n",
        "plt.subplots(1, figsize=(10,10))\n",
        "plt.title('ROC Curve for Heart Disease Predictor')\n",
        "plt.plot(false_positive_rate1, true_positive_rate1)\n",
        "plt.plot([0, 1], ls=\"--\")\n",
        "plt.plot([0, 0], [1, 0] , c=\".7\"), plt.plot([1, 1] , c=\".7\")\n",
        "plt.ylabel('True Positive Rate')\n",
        "plt.xlabel('False Positive Rate')\n",
        "plt.show()"
      ],
      "metadata": {
        "colab": {
          "base_uri": "https://localhost:8080/",
          "height": 890
        },
        "id": "k2_HJHajMQ_0",
        "outputId": "04eb39ba-edf2-42f1-ef83-b6f7721e0f4f"
      },
      "execution_count": 47,
      "outputs": [
        {
          "output_type": "stream",
          "name": "stdout",
          "text": [
            "0.8351702046799501\n"
          ]
        },
        {
          "output_type": "display_data",
          "data": {
            "text/plain": [
              "<Figure size 1000x1000 with 1 Axes>"
            ],
            "image/png": "[encoded data removed]"
          },
          "metadata": {}
        }
      ]
    }
  ]
}