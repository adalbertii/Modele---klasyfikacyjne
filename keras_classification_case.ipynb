{
  "nbformat": 4,
  "nbformat_minor": 0,
  "metadata": {
    "colab": {
      "provenance": [],
      "mount_file_id": "https://github.com/adalbertii/Modele-klasyfikacyjne/blob/main/keras_classification_case.ipynb",
      "authorship_tag": "ABX9TyNUm54rFk+JC36ymd0QkfZO",
      "include_colab_link": true
    },
    "kernelspec": {
      "name": "python3",
      "display_name": "Python 3"
    },
    "language_info": {
      "name": "python"
    }
  },
  "cells": [
    {
      "cell_type": "markdown",
      "metadata": {
        "id": "view-in-github",
        "colab_type": "text"
      },
      "source": [
        "<a href=\"https://colab.research.google.com/github/adalbertii/Modele-klasyfikacyjne/blob/main/keras_classification_case.ipynb\" target=\"_parent\"><img src=\"https://colab.research.google.com/assets/colab-badge.svg\" alt=\"Open In Colab\"/></a>"
      ]
    },
    {
      "cell_type": "markdown",
      "source": [
        "\n",
        "**Klasyfikacja binarna**\n",
        "\n",
        "Oparta na modelu neuronowym\n",
        "\n"
      ],
      "metadata": {
        "id": "h8wZmVgDaDmy"
      }
    },
    {
      "cell_type": "markdown",
      "source": [
        "Step 1 - Loading the Required Libraries and Modules"
      ],
      "metadata": {
        "id": "swvpnyllZ-Jz"
      }
    },
    {
      "cell_type": "code",
      "execution_count": 1,
      "metadata": {
        "id": "NBsqSBIQYd5y"
      },
      "outputs": [],
      "source": [
        "import pandas as pd\n",
        "import numpy as np\n",
        "import matplotlib.pyplot as plt\n",
        "import sklearn\n",
        "from sklearn.model_selection import train_test_split\n",
        "from sklearn.metrics import mean_squared_error\n",
        "from math import sqrt\n",
        "\n",
        "\n",
        "import keras\n",
        "from keras.models import Sequential\n",
        "from keras.layers import Dense\n",
        "from keras.utils import to_categorical"
      ]
    },
    {
      "cell_type": "markdown",
      "source": [
        "**Pobranie danych i ich uproszczona analiza**"
      ],
      "metadata": {
        "id": "xySyy3vMa3L1"
      }
    },
    {
      "cell_type": "code",
      "source": [
        "# zamontować dysk Google\n",
        "df = pd.read_csv('/content/drive/MyDrive/dane/diabetes.csv')\n",
        "print(df.shape)"
      ],
      "metadata": {
        "id": "z0pGzpoSa76b"
      },
      "execution_count": null,
      "outputs": []
    },
    {
      "cell_type": "code",
      "source": [
        "\n",
        "df.head()"
      ],
      "metadata": {
        "id": "41zjVDWChXkk"
      },
      "execution_count": null,
      "outputs": []
    },
    {
      "cell_type": "code",
      "source": [
        "# analiza statystyczna zbioru danych\n",
        "df.describe()"
      ],
      "metadata": {
        "id": "l3l51GS6dg-M"
      },
      "execution_count": null,
      "outputs": []
    },
    {
      "cell_type": "markdown",
      "source": [
        "Step 3 - Creating Arrays for the Features and the Response Variable."
      ],
      "metadata": {
        "id": "lVMD-bleb6mE"
      }
    },
    {
      "cell_type": "code",
      "source": [
        "df.columns"
      ],
      "metadata": {
        "id": "r6yzKjToieSG",
        "outputId": "b460bfb3-c4ca-456b-f882-c2356fed4599",
        "colab": {
          "base_uri": "https://localhost:8080/"
        }
      },
      "execution_count": 9,
      "outputs": [
        {
          "output_type": "execute_result",
          "data": {
            "text/plain": [
              "Index(['Pregnancies', 'Glucose', 'BloodPressure', 'SkinThickness', 'Insulin',\n",
              "       'BMI', 'DiabetesPedigreeFunction', 'Age', 'Outcome'],\n",
              "      dtype='object')"
            ]
          },
          "metadata": {},
          "execution_count": 9
        }
      ]
    },
    {
      "cell_type": "code",
      "source": [
        "target_column = ['Outcome']\n",
        "predictors = list(set(list(df.columns))-set(target_column))\n",
        "predictors"
      ],
      "metadata": {
        "id": "0zkwCRkscA5L",
        "outputId": "3f74b2ef-c29b-471a-e46f-0a35d4972926",
        "colab": {
          "base_uri": "https://localhost:8080/"
        }
      },
      "execution_count": 12,
      "outputs": [
        {
          "output_type": "execute_result",
          "data": {
            "text/plain": [
              "['Age',\n",
              " 'DiabetesPedigreeFunction',\n",
              " 'Insulin',\n",
              " 'Glucose',\n",
              " 'Pregnancies',\n",
              " 'BMI',\n",
              " 'BloodPressure',\n",
              " 'SkinThickness']"
            ]
          },
          "metadata": {},
          "execution_count": 12
        }
      ]
    },
    {
      "cell_type": "code",
      "source": [
        "# uproszczone skalowanie wartości\n",
        "df[predictors] = df[predictors]/df[predictors].max()\n",
        "df.describe()"
      ],
      "metadata": {
        "id": "gwIRhFWH8sDY"
      },
      "execution_count": null,
      "outputs": []
    },
    {
      "cell_type": "code",
      "source": [
        "# tworzy tablice np.array\n",
        "X = df[predictors].values\n",
        "y = df[target_column].values"
      ],
      "metadata": {
        "id": "9VJxmnLCk2tu"
      },
      "execution_count": 13,
      "outputs": []
    },
    {
      "cell_type": "code",
      "source": [
        "X.shape"
      ],
      "metadata": {
        "id": "JOZr_plilEks",
        "outputId": "7fc1c8aa-753f-4c4e-d7f1-318312296d08",
        "colab": {
          "base_uri": "https://localhost:8080/"
        }
      },
      "execution_count": 14,
      "outputs": [
        {
          "output_type": "execute_result",
          "data": {
            "text/plain": [
              "(768, 8)"
            ]
          },
          "metadata": {},
          "execution_count": 14
        }
      ]
    },
    {
      "cell_type": "code",
      "source": [
        "y.shape"
      ],
      "metadata": {
        "id": "6jyF10bclF7K",
        "outputId": "bfdf6670-ea47-42d1-9e56-95a9af547b23",
        "colab": {
          "base_uri": "https://localhost:8080/"
        }
      },
      "execution_count": 15,
      "outputs": [
        {
          "output_type": "execute_result",
          "data": {
            "text/plain": [
              "(768, 1)"
            ]
          },
          "metadata": {},
          "execution_count": 15
        }
      ]
    },
    {
      "cell_type": "code",
      "source": [
        "# podzial zbioru na dane treningowe i testowe\n",
        "X_train, X_test, y_train, y_test = train_test_split(X, y, test_size=0.30, random_state=40)\n",
        "print('X_train:', X_train.shape); print('X_test:', X_test.shape);print('y_train:', y_train.shape);print('Y_test:',y_test.shape)"
      ],
      "metadata": {
        "id": "ReV-HU2VlAk_",
        "outputId": "32aeac8c-2f65-4183-f5ae-8bcc9f385200",
        "colab": {
          "base_uri": "https://localhost:8080/"
        }
      },
      "execution_count": 19,
      "outputs": [
        {
          "output_type": "stream",
          "name": "stdout",
          "text": [
            "X_train: (537, 8)\n",
            "X_test: (231, 8)\n",
            "y_train: (537, 1)\n",
            "Y_test: (231, 1)\n"
          ]
        }
      ]
    },
    {
      "cell_type": "code",
      "source": [
        "#Ponieważ nasza zmienna docelowa reprezentuje kategorię binarną, która została zakodowana jako liczby 0 i 1,\n",
        "#będziemy musieli ją zakodować.\n",
        "y_train = to_categorical(y_train)\n",
        "y_test = to_categorical(y_test)\n",
        "\n",
        "count_classes = y_test.shape[1]\n",
        "print('Liczba klas:', count_classes)"
      ],
      "metadata": {
        "colab": {
          "base_uri": "https://localhost:8080/"
        },
        "id": "7q7Z3gJunSkS",
        "outputId": "415ba58a-a64b-4175-e46f-5fd227d8fea8"
      },
      "execution_count": 20,
      "outputs": [
        {
          "output_type": "stream",
          "name": "stdout",
          "text": [
            "Liczba klas: 2\n"
          ]
        }
      ]
    },
    {
      "cell_type": "code",
      "source": [
        "y_train[:5]"
      ],
      "metadata": {
        "id": "vnmpx18s_Ogx",
        "outputId": "eafe6770-be8d-4d47-82f0-9958bb2a96c1",
        "colab": {
          "base_uri": "https://localhost:8080/"
        }
      },
      "execution_count": 21,
      "outputs": [
        {
          "output_type": "execute_result",
          "data": {
            "text/plain": [
              "array([[0., 1.],\n",
              "       [0., 1.],\n",
              "       [0., 1.],\n",
              "       [1., 0.],\n",
              "       [1., 0.]], dtype=float32)"
            ]
          },
          "metadata": {},
          "execution_count": 21
        }
      ]
    },
    {
      "cell_type": "code",
      "source": [
        "print(y_train.shape)\n",
        "y_train"
      ],
      "metadata": {
        "id": "AW9B0F0Pncu5",
        "outputId": "578c993d-8306-4015-824f-2e6527731f47",
        "colab": {
          "base_uri": "https://localhost:8080/"
        }
      },
      "execution_count": 22,
      "outputs": [
        {
          "output_type": "stream",
          "name": "stdout",
          "text": [
            "(537, 2)\n"
          ]
        },
        {
          "output_type": "execute_result",
          "data": {
            "text/plain": [
              "array([[0., 1.],\n",
              "       [0., 1.],\n",
              "       [0., 1.],\n",
              "       ...,\n",
              "       [1., 0.],\n",
              "       [0., 1.],\n",
              "       [0., 1.]], dtype=float32)"
            ]
          },
          "metadata": {},
          "execution_count": 22
        }
      ]
    },
    {
      "cell_type": "markdown",
      "source": [
        "**Definicja, kompilacja i uczenie modelu neuronowego**"
      ],
      "metadata": {
        "id": "5EN8Z-t7n5Jd"
      }
    },
    {
      "cell_type": "code",
      "source": [
        "X_train.shape"
      ],
      "metadata": {
        "id": "NPAi_zwB_7M-",
        "outputId": "9da776af-a040-4e00-d90c-bb8d3a924daf",
        "colab": {
          "base_uri": "https://localhost:8080/"
        }
      },
      "execution_count": 23,
      "outputs": [
        {
          "output_type": "execute_result",
          "data": {
            "text/plain": [
              "(537, 8)"
            ]
          },
          "metadata": {},
          "execution_count": 23
        }
      ]
    },
    {
      "cell_type": "code",
      "source": [
        "#definicja modelu\n",
        "model = Sequential()\n",
        "model.add(Dense(500, activation='relu', input_dim=8)) # objaśnić input_dim\n",
        "model.add(Dense(100, activation='relu'))\n",
        "model.add(Dense(50, activation='relu'))\n",
        "model.add(Dense(2, activation='softmax'))# objaśnić funkcje aktywacji softmax\n",
        "\n",
        "\n",
        "# Podczas pracy nad problemem uczenia maszynowego lub głębokiego uczenia,\n",
        "# funkcje strat/kosztów są wykorzystywane do optymalizacji modelu podczas szkolenia.\n",
        "# Celem jest prawie zawsze zminimalizowanie funkcji strat.\n",
        "# Im niższa strata, tym lepszy model. Cross-Entropy loss jest najważniejszą funkcją kosztu.\n",
        "# Służy ona do optymalizacji modeli klasyfikacyjnych."
      ],
      "metadata": {
        "id": "7CLcRSW-n6fF"
      },
      "execution_count": 24,
      "outputs": []
    },
    {
      "cell_type": "code",
      "source": [
        "# kompilacja modelu\n",
        "model.compile(optimizer='adam',\n",
        "              loss='categorical_crossentropy',\n",
        "              metrics=['accuracy'])\n",
        "model.summary()\n"
      ],
      "metadata": {
        "id": "TfdskxRboH6c",
        "outputId": "15a8035d-b0ca-48cb-bcbf-fd5e948a59b7",
        "colab": {
          "base_uri": "https://localhost:8080/"
        }
      },
      "execution_count": 25,
      "outputs": [
        {
          "output_type": "stream",
          "name": "stdout",
          "text": [
            "Model: \"sequential\"\n",
            "_________________________________________________________________\n",
            " Layer (type)                Output Shape              Param #   \n",
            "=================================================================\n",
            " dense (Dense)               (None, 500)               4500      \n",
            "                                                                 \n",
            " dense_1 (Dense)             (None, 100)               50100     \n",
            "                                                                 \n",
            " dense_2 (Dense)             (None, 50)                5050      \n",
            "                                                                 \n",
            " dense_3 (Dense)             (None, 2)                 102       \n",
            "                                                                 \n",
            "=================================================================\n",
            "Total params: 59752 (233.41 KB)\n",
            "Trainable params: 59752 (233.41 KB)\n",
            "Non-trainable params: 0 (0.00 Byte)\n",
            "_________________________________________________________________\n"
          ]
        }
      ]
    },
    {
      "cell_type": "code",
      "source": [
        "# uczenie modelu\n",
        "model.fit(X_train, y_train, epochs=20, verbose=1)\n"
      ],
      "metadata": {
        "id": "LR1ThAJXpEz-",
        "outputId": "4a37e28d-56de-47ce-f5d2-cac6b876b8e4",
        "colab": {
          "base_uri": "https://localhost:8080/"
        }
      },
      "execution_count": 26,
      "outputs": [
        {
          "output_type": "stream",
          "name": "stdout",
          "text": [
            "Epoch 1/20\n",
            "17/17 [==============================] - 1s 3ms/step - loss: 0.6555 - accuracy: 0.6667\n",
            "Epoch 2/20\n",
            "17/17 [==============================] - 0s 3ms/step - loss: 0.6243 - accuracy: 0.6667\n",
            "Epoch 3/20\n",
            "17/17 [==============================] - 0s 3ms/step - loss: 0.5974 - accuracy: 0.6983\n",
            "Epoch 4/20\n",
            "17/17 [==============================] - 0s 3ms/step - loss: 0.5736 - accuracy: 0.7020\n",
            "Epoch 5/20\n",
            "17/17 [==============================] - 0s 4ms/step - loss: 0.5500 - accuracy: 0.7318\n",
            "Epoch 6/20\n",
            "17/17 [==============================] - 0s 3ms/step - loss: 0.5339 - accuracy: 0.7486\n",
            "Epoch 7/20\n",
            "17/17 [==============================] - 0s 3ms/step - loss: 0.5104 - accuracy: 0.7505\n",
            "Epoch 8/20\n",
            "17/17 [==============================] - 0s 3ms/step - loss: 0.4905 - accuracy: 0.7635\n",
            "Epoch 9/20\n",
            "17/17 [==============================] - 0s 3ms/step - loss: 0.4722 - accuracy: 0.7709\n",
            "Epoch 10/20\n",
            "17/17 [==============================] - 0s 3ms/step - loss: 0.4826 - accuracy: 0.7765\n",
            "Epoch 11/20\n",
            "17/17 [==============================] - 0s 3ms/step - loss: 0.4649 - accuracy: 0.7747\n",
            "Epoch 12/20\n",
            "17/17 [==============================] - 0s 3ms/step - loss: 0.4592 - accuracy: 0.7858\n",
            "Epoch 13/20\n",
            "17/17 [==============================] - 0s 3ms/step - loss: 0.4534 - accuracy: 0.7914\n",
            "Epoch 14/20\n",
            "17/17 [==============================] - 0s 4ms/step - loss: 0.4729 - accuracy: 0.7858\n",
            "Epoch 15/20\n",
            "17/17 [==============================] - 0s 3ms/step - loss: 0.4772 - accuracy: 0.7635\n",
            "Epoch 16/20\n",
            "17/17 [==============================] - 0s 3ms/step - loss: 0.4502 - accuracy: 0.7914\n",
            "Epoch 17/20\n",
            "17/17 [==============================] - 0s 3ms/step - loss: 0.4555 - accuracy: 0.7858\n",
            "Epoch 18/20\n",
            "17/17 [==============================] - 0s 3ms/step - loss: 0.4523 - accuracy: 0.7728\n",
            "Epoch 19/20\n",
            "17/17 [==============================] - 0s 3ms/step - loss: 0.4436 - accuracy: 0.7803\n",
            "Epoch 20/20\n",
            "17/17 [==============================] - 0s 3ms/step - loss: 0.4354 - accuracy: 0.8045\n"
          ]
        },
        {
          "output_type": "execute_result",
          "data": {
            "text/plain": [
              "<keras.src.callbacks.History at 0x78ed984bcd30>"
            ]
          },
          "metadata": {},
          "execution_count": 26
        }
      ]
    },
    {
      "cell_type": "markdown",
      "source": [
        "**Ewaluacja modelu**"
      ],
      "metadata": {
        "id": "zX2KS9BDqV-G"
      }
    },
    {
      "cell_type": "code",
      "source": [
        "# pred_train= model.predict(X_train)\n",
        "scores = model.evaluate(X_train, y_train, verbose=0)\n",
        "print('Accuracy on training data: {}% \\n Error on training data: {}'.format(scores[1], 1 - scores[1]))\n",
        "\n",
        "pred_test= model.predict(X_test)\n",
        "scores2 = model.evaluate(X_test, y_test, verbose=0)\n",
        "print('Accuracy on test data: {}% \\n Error on test data: {}'.format(scores2[1], 1 - scores2[1]))"
      ],
      "metadata": {
        "id": "IStLgje3qZaB",
        "outputId": "1d5f0d9e-2291-49c0-d2be-a23703559587",
        "colab": {
          "base_uri": "https://localhost:8080/"
        }
      },
      "execution_count": 27,
      "outputs": [
        {
          "output_type": "stream",
          "name": "stdout",
          "text": [
            "Accuracy on training data: 0.7988826632499695% \n",
            " Error on training data: 0.20111733675003052\n",
            "8/8 [==============================] - 0s 3ms/step\n",
            "Accuracy on test data: 0.7705627679824829% \n",
            " Error on test data: 0.2294372320175171\n"
          ]
        }
      ]
    }
  ]
}