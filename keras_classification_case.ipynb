{
  "nbformat": 4,
  "nbformat_minor": 0,
  "metadata": {
    "colab": {
      "provenance": [],
      "history_visible": true,
      "authorship_tag": "ABX9TyNnikjFrbSFo8JiREtO+45D",
      "include_colab_link": true
    },
    "kernelspec": {
      "name": "python3",
      "display_name": "Python 3"
    },
    "language_info": {
      "name": "python"
    }
  },
  "cells": [
    {
      "cell_type": "markdown",
      "metadata": {
        "id": "view-in-github",
        "colab_type": "text"
      },
      "source": [
        "<a href=\"https://colab.research.google.com/github/adalbertii/Modele-klasyfikacyjne/blob/main/keras_classification_case.ipynb\" target=\"_parent\"><img src=\"https://colab.research.google.com/assets/colab-badge.svg\" alt=\"Open In Colab\"/></a>"
      ]
    },
    {
      "cell_type": "markdown",
      "source": [
        "\n",
        "**Klasyfikacja binarna**\n",
        "\n",
        "Oparta na modelu neuronowym\n",
        "\n",
        "Rozpoznawanie cukrzycy"
      ],
      "metadata": {
        "id": "h8wZmVgDaDmy"
      }
    },
    {
      "cell_type": "code",
      "execution_count": null,
      "metadata": {
        "id": "NBsqSBIQYd5y"
      },
      "outputs": [],
      "source": [
        "import pandas as pd\n",
        "import numpy as np\n",
        "import matplotlib.pyplot as plt\n",
        "from sklearn.metrics import classification_report,confusion_matrix\n",
        "import seaborn as sns\n",
        "\n",
        "import sklearn\n",
        "from sklearn.model_selection import train_test_split\n",
        "from sklearn.metrics import mean_squared_error\n",
        "from math import sqrt\n",
        "from sklearn.metrics import classification_report\n",
        "\n",
        "import keras\n",
        "from keras.models import Sequential\n",
        "from keras.layers import Dense\n",
        "from keras.utils import to_categorical"
      ]
    },
    {
      "cell_type": "code",
      "source": [
        "import warnings\n",
        "warnings.filterwarnings('ignore')"
      ],
      "metadata": {
        "id": "5F09uZ6aTvpm"
      },
      "execution_count": null,
      "outputs": []
    },
    {
      "cell_type": "markdown",
      "source": [
        "**Pobranie danych i ich uproszczona analiza**"
      ],
      "metadata": {
        "id": "xySyy3vMa3L1"
      }
    },
    {
      "cell_type": "code",
      "source": [
        "# zamontować dysk Google\n",
        "df = pd.read_csv('/content/drive/MyDrive/dane/diabetes.csv')\n",
        "print(df.shape)"
      ],
      "metadata": {
        "id": "z0pGzpoSa76b"
      },
      "execution_count": null,
      "outputs": []
    },
    {
      "cell_type": "code",
      "source": [
        "\n",
        "df.head()"
      ],
      "metadata": {
        "id": "41zjVDWChXkk"
      },
      "execution_count": null,
      "outputs": []
    },
    {
      "cell_type": "code",
      "source": [
        "# analiza statystyczna zbioru danych\n",
        "df.describe()"
      ],
      "metadata": {
        "id": "l3l51GS6dg-M"
      },
      "execution_count": null,
      "outputs": []
    },
    {
      "cell_type": "code",
      "source": [
        "# sprawdzamy korelacje zmiennych\n",
        "df.corr()['Outcome'].sort_values(ascending=False)"
      ],
      "metadata": {
        "id": "A8hSuv_9Wtk6"
      },
      "execution_count": null,
      "outputs": []
    },
    {
      "cell_type": "code",
      "source": [
        "#Sprawdzenie korelacji\n",
        "\n",
        "print('\\033[1mMatryca korelacji zmiennych'.center(100))\n",
        "plt.figure(figsize=[8,6])\n",
        "sns.heatmap(df.corr(), annot=True, vmin=-1, vmax=1, center=0) #cmap='BuGn'\n",
        "plt.show()"
      ],
      "metadata": {
        "id": "101vWj21X4rA"
      },
      "execution_count": null,
      "outputs": []
    },
    {
      "cell_type": "code",
      "source": [
        "#sprawdzenie rozkładu unikalnych wartości zmiennej objaśnianej\n",
        "print(np.unique(df['Outcome'], return_counts=True))"
      ],
      "metadata": {
        "id": "Qalwlt5FXmvV"
      },
      "execution_count": null,
      "outputs": []
    },
    {
      "cell_type": "code",
      "source": [
        "#weryfikacja zależności pomiedzy zmiennymi\n",
        "#'Outcome', 'BMI', 'Age','Pregnancies'\n",
        "g = sns.pairplot(df[[ 'Outcome','Glucose','BMI']])\n",
        "#plt.title('Wykresy par dla wszystkich zmiennych')\n",
        "g.map_upper(sns.kdeplot, levels=4, color=\".2\")\n",
        "plt.show()"
      ],
      "metadata": {
        "id": "xIHGCojeXgX2"
      },
      "execution_count": null,
      "outputs": []
    },
    {
      "cell_type": "markdown",
      "source": [
        "Step 3 - Creating Arrays for the Features and the Response Variable."
      ],
      "metadata": {
        "id": "lVMD-bleb6mE"
      }
    },
    {
      "cell_type": "code",
      "source": [
        "df.columns"
      ],
      "metadata": {
        "id": "r6yzKjToieSG"
      },
      "execution_count": null,
      "outputs": []
    },
    {
      "cell_type": "code",
      "source": [
        "target_column = ['Outcome']\n",
        "predictors = list(set(list(df.columns))-set(target_column))\n",
        "predictors"
      ],
      "metadata": {
        "id": "0zkwCRkscA5L"
      },
      "execution_count": null,
      "outputs": []
    },
    {
      "cell_type": "code",
      "source": [
        "# uproszczone skalowanie wartości\n",
        "df[predictors] = df[predictors]/df[predictors].max()\n"
      ],
      "metadata": {
        "id": "gwIRhFWH8sDY"
      },
      "execution_count": null,
      "outputs": []
    },
    {
      "cell_type": "code",
      "source": [
        "df[predictors].head()"
      ],
      "metadata": {
        "id": "OQHzKF2NRhn6"
      },
      "execution_count": null,
      "outputs": []
    },
    {
      "cell_type": "code",
      "source": [
        "df.describe()"
      ],
      "metadata": {
        "id": "9anaTs4uRfO3"
      },
      "execution_count": null,
      "outputs": []
    },
    {
      "cell_type": "code",
      "source": [
        "# tworzy tablice np.array\n",
        "X = df[predictors].values\n",
        "y = df[target_column].values"
      ],
      "metadata": {
        "id": "9VJxmnLCk2tu"
      },
      "execution_count": null,
      "outputs": []
    },
    {
      "cell_type": "code",
      "source": [
        "X.shape"
      ],
      "metadata": {
        "id": "JOZr_plilEks"
      },
      "execution_count": null,
      "outputs": []
    },
    {
      "cell_type": "code",
      "source": [
        "y.shape"
      ],
      "metadata": {
        "id": "6jyF10bclF7K"
      },
      "execution_count": null,
      "outputs": []
    },
    {
      "cell_type": "code",
      "source": [
        "# podzial zbioru na dane treningowe i testowe\n",
        "X_train, X_test, y_train, y_test = train_test_split(X, y, test_size=0.30, random_state=40)\n",
        "print('X_train:', X_train.shape); print('X_test:', X_test.shape);print('y_train:', y_train.shape);print('y_test:',y_test.shape)"
      ],
      "metadata": {
        "id": "ReV-HU2VlAk_"
      },
      "execution_count": null,
      "outputs": []
    },
    {
      "cell_type": "code",
      "source": [
        "#Z uwagi na to, że zmienna docelowa reprezentuje kategorię binarną, która została zakodowana jako liczby 0 i 1,\n",
        "#będziemy musieli ją zakodować.\n",
        "y_train = to_categorical(y_train)\n",
        "y_test = to_categorical(y_test)\n",
        "\n",
        "y_train[:10]"
      ],
      "metadata": {
        "id": "7q7Z3gJunSkS"
      },
      "execution_count": null,
      "outputs": []
    },
    {
      "cell_type": "code",
      "source": [
        "count_classes = y_test.shape[1]\n",
        "print('Liczba klas:', count_classes)"
      ],
      "metadata": {
        "id": "y7UlQ6e3SqjJ"
      },
      "execution_count": null,
      "outputs": []
    },
    {
      "cell_type": "code",
      "source": [
        "print(y_train.shape)\n",
        "y_train"
      ],
      "metadata": {
        "id": "AW9B0F0Pncu5"
      },
      "execution_count": null,
      "outputs": []
    },
    {
      "cell_type": "markdown",
      "source": [
        "**Definicja, kompilacja i uczenie modelu neuronowego**"
      ],
      "metadata": {
        "id": "5EN8Z-t7n5Jd"
      }
    },
    {
      "cell_type": "code",
      "source": [
        "X_train.shape"
      ],
      "metadata": {
        "id": "NPAi_zwB_7M-"
      },
      "execution_count": null,
      "outputs": []
    },
    {
      "cell_type": "code",
      "source": [
        "#definicja modelu\n",
        "model = Sequential()\n",
        "model.add(Dense(500, activation='relu', input_dim=8)) # objaśnić input_dim\n",
        "model.add(Dense(100, activation='relu'))\n",
        "model.add(Dense(50, activation='relu'))\n",
        "model.add(Dense(2, activation='softmax'))# objaśnić funkcje aktywacji softmax\n",
        "\n",
        "\n",
        "# Podczas pracy nad problemem uczenia maszynowego lub głębokiego uczenia,\n",
        "# funkcje strat/kosztów są wykorzystywane do optymalizacji modelu podczas szkolenia.\n",
        "# Celem jest prawie zawsze zminimalizowanie funkcji strat.\n",
        "# Im niższa strata, tym lepszy model. Cross-Entropy loss jest najważniejszą funkcją kosztu.\n",
        "# Służy ona do optymalizacji modeli klasyfikacyjnych."
      ],
      "metadata": {
        "id": "7CLcRSW-n6fF"
      },
      "execution_count": null,
      "outputs": []
    },
    {
      "cell_type": "code",
      "source": [
        "# kompilacja modelu\n",
        "model.compile(optimizer='adam',\n",
        "              loss='categorical_crossentropy',\n",
        "              metrics=['accuracy'])\n",
        "model.summary()"
      ],
      "metadata": {
        "id": "TfdskxRboH6c"
      },
      "execution_count": null,
      "outputs": []
    },
    {
      "cell_type": "code",
      "source": [
        "# uczenie modelu\n",
        "model.fit(X_train, y_train, epochs=20, verbose=1)"
      ],
      "metadata": {
        "id": "LR1ThAJXpEz-"
      },
      "execution_count": null,
      "outputs": []
    },
    {
      "cell_type": "markdown",
      "source": [
        "**Ewaluacja modelu**"
      ],
      "metadata": {
        "id": "zX2KS9BDqV-G"
      }
    },
    {
      "cell_type": "code",
      "source": [
        "pred_train= model.predict(X_train)\n",
        "scores = model.evaluate(X_train, y_train, verbose=0)\n",
        "print('Accuracy on training data: {}% \\n Error on training data: {}'.format(scores[1], 1 - scores[1]))\n",
        "\n",
        "pred_test= model.predict(X_test)\n",
        "scores2 = model.evaluate(X_test, y_test, verbose=0)\n",
        "print('Accuracy on test data: {}% \\n Error on test data: {}'.format(scores2[1], 1 - scores2[1]))"
      ],
      "metadata": {
        "id": "IStLgje3qZaB"
      },
      "execution_count": null,
      "outputs": []
    },
    {
      "cell_type": "code",
      "source": [
        "y_pred=model.predict(X_test)\n",
        "y_pred=(y_pred>0.5)"
      ],
      "metadata": {
        "id": "R64aFXKVQrRn"
      },
      "execution_count": null,
      "outputs": []
    },
    {
      "cell_type": "code",
      "source": [
        "conf_test=confusion_matrix(y_test.argmax(axis=1), y_pred.argmax(axis=1))"
      ],
      "metadata": {
        "id": "rBFD9pEDSg_h"
      },
      "execution_count": null,
      "outputs": []
    },
    {
      "cell_type": "code",
      "source": [
        "ax = sns.heatmap(conf_test/np.sum(conf_test), annot=True,\n",
        "            fmt='.2%', cmap='Blues')\n",
        "\n",
        "ax.set_title('Test Data');\n",
        "ax.set_xlabel('\\nPredicted Values')\n",
        "ax.set_ylabel('Actual Values ');\n",
        "\n",
        "ax.xaxis.set_ticklabels(['False','True'])\n",
        "ax.yaxis.set_ticklabels(['False','True'])\n",
        "\n",
        "plt.show()"
      ],
      "metadata": {
        "id": "vHnDNQKlVAfg"
      },
      "execution_count": null,
      "outputs": []
    },
    {
      "cell_type": "code",
      "source": [
        "print(classification_report(y_test, y_pred))"
      ],
      "metadata": {
        "id": "7RgkQXtjo8TM"
      },
      "execution_count": null,
      "outputs": []
    }
  ]
}