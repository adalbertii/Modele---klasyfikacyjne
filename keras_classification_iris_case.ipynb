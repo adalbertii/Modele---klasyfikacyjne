{
  "nbformat": 4,
  "nbformat_minor": 0,
  "metadata": {
    "colab": {
      "provenance": [],
      "authorship_tag": "ABX9TyNeYSOoFOjZygkGbkCBKEDp",
      "include_colab_link": true
    },
    "kernelspec": {
      "name": "python3",
      "display_name": "Python 3"
    },
    "language_info": {
      "name": "python"
    }
  },
  "cells": [
    {
      "cell_type": "markdown",
      "metadata": {
        "id": "view-in-github",
        "colab_type": "text"
      },
      "source": [
        "<a href=\"https://colab.research.google.com/github/adalbertii/Modele-klasyfikacyjne/blob/main/keras_classification_iris_case.ipynb\" target=\"_parent\"><img src=\"https://colab.research.google.com/assets/colab-badge.svg\" alt=\"Open In Colab\"/></a>"
      ]
    },
    {
      "cell_type": "markdown",
      "source": [
        "\n",
        "\n",
        "\n",
        "Construction of neural networks - classification IRIS model\n",
        "\n",
        "Using the Keras library\n",
        "\n",
        "DataSet from: # https://www.kaggle.com/datasets/arshid/iris-flower-dataset\n",
        "---\n",
        "\n",
        "\n"
      ],
      "metadata": {
        "id": "INKaaNXl4t4V"
      }
    },
    {
      "cell_type": "markdown",
      "source": [
        "Step 1 - Loading the Required Libraries and Modules"
      ],
      "metadata": {
        "id": "9ZVrp4eMg-8G"
      }
    },
    {
      "cell_type": "code",
      "execution_count": null,
      "metadata": {
        "id": "vxXWPlbk4e7m"
      },
      "outputs": [],
      "source": [
        "import numpy as np\n",
        "import pandas as pd"
      ]
    },
    {
      "cell_type": "markdown",
      "source": [
        "Step 2 - Preparing the Data and Performing Basic Data Check"
      ],
      "metadata": {
        "id": "mBlqU7FahF3P"
      }
    },
    {
      "cell_type": "code",
      "source": [
        "iris = pd.read_csv(\"IRIS.csv\")\n",
        "iris.head()"
      ],
      "metadata": {
        "id": "uGE9GyY2-9Vj"
      },
      "execution_count": null,
      "outputs": []
    },
    {
      "cell_type": "markdown",
      "source": [],
      "metadata": {
        "id": "hGuLaWTqhEE8"
      }
    },
    {
      "cell_type": "code",
      "source": [
        "X=iris.drop('species', axis=1)\n",
        "X.head()"
      ],
      "metadata": {
        "id": "nKlPbHLs_Vqj"
      },
      "execution_count": null,
      "outputs": []
    },
    {
      "cell_type": "code",
      "source": [
        "X.shape"
      ],
      "metadata": {
        "id": "KVsL12XF_ur9"
      },
      "execution_count": null,
      "outputs": []
    },
    {
      "cell_type": "code",
      "source": [
        "y=iris['species']\n",
        "y.head"
      ],
      "metadata": {
        "id": "9oVYOE5B_9n-"
      },
      "execution_count": null,
      "outputs": []
    },
    {
      "cell_type": "code",
      "source": [
        "y.unique()"
      ],
      "metadata": {
        "id": "Zxhfp5BPANqJ"
      },
      "execution_count": null,
      "outputs": []
    },
    {
      "cell_type": "code",
      "source": [
        "from sklearn.preprocessing import LabelBinarizer"
      ],
      "metadata": {
        "id": "o64lrnzbCTpF"
      },
      "execution_count": null,
      "outputs": []
    },
    {
      "cell_type": "code",
      "source": [
        "encoder = LabelBinarizer()\n",
        "\n",
        "y = encoder.fit_transform(y)\n",
        "y[0:5]\n"
      ],
      "metadata": {
        "id": "W_YMjljCCXnU"
      },
      "execution_count": null,
      "outputs": []
    },
    {
      "cell_type": "markdown",
      "source": [
        "Step 4 - Creating the Training and Test Datasets"
      ],
      "metadata": {
        "id": "PzdrxkXVhUBd"
      }
    },
    {
      "cell_type": "code",
      "source": [
        "from sklearn.model_selection import train_test_split\n",
        "from sklearn.preprocessing import MinMaxScaler"
      ],
      "metadata": {
        "id": "_EtoO6N6DJI0"
      },
      "execution_count": null,
      "outputs": []
    },
    {
      "cell_type": "code",
      "source": [
        "X_train, X_test, y_train, y_test = train_test_split(X,y, test_size =0.2, random_state=101)"
      ],
      "metadata": {
        "id": "kQAJr2LNDQYz"
      },
      "execution_count": null,
      "outputs": []
    },
    {
      "cell_type": "code",
      "source": [
        "print(X_train.shape, X_test.shape, y_train.shape, y_test.shape)"
      ],
      "metadata": {
        "id": "xE1jmNW6DabY"
      },
      "execution_count": null,
      "outputs": []
    },
    {
      "cell_type": "code",
      "source": [
        "X_train.head()"
      ],
      "metadata": {
        "id": "Il3F9ahbEZ4u"
      },
      "execution_count": null,
      "outputs": []
    },
    {
      "cell_type": "code",
      "source": [
        "scaler = MinMaxScaler()\n",
        "\n",
        "scaler.fit(X_train)\n",
        "scaled_X_train = scaler.transform(X_train)\n",
        "scaled_X_test = scaler.transform(X_test)"
      ],
      "metadata": {
        "id": "iR1VpJZHEmsv"
      },
      "execution_count": null,
      "outputs": []
    },
    {
      "cell_type": "code",
      "source": [
        "scaled_X_train[0:5]"
      ],
      "metadata": {
        "id": "VVI2sDadEwDT"
      },
      "execution_count": null,
      "outputs": []
    },
    {
      "cell_type": "markdown",
      "source": [
        "Step 5 - building neural network"
      ],
      "metadata": {
        "id": "F8E9lX-8hb4_"
      }
    },
    {
      "cell_type": "code",
      "source": [
        "from tensorflow.keras.models import Sequential\n",
        "from tensorflow.keras.layers import Dense"
      ],
      "metadata": {
        "id": "COKFrGHiGmHG"
      },
      "execution_count": null,
      "outputs": []
    },
    {
      "cell_type": "code",
      "source": [
        "model = Sequential()\n",
        "model.add(Dense(units=4, activation='relu', input_shape=[4,]))\n",
        "\n",
        "model.add(Dense(units=3, activation='softmax'))\n",
        "model.compile(optimizer='adam', loss='categorical_crossentropy', metrics=['accuracy'])"
      ],
      "metadata": {
        "id": "b6j8g7LmGtpE"
      },
      "execution_count": null,
      "outputs": []
    },
    {
      "cell_type": "code",
      "source": [
        "model.summary()"
      ],
      "metadata": {
        "id": "vqvCdOagHi2M"
      },
      "execution_count": null,
      "outputs": []
    },
    {
      "cell_type": "markdown",
      "source": [
        "Step 6 - model training"
      ],
      "metadata": {
        "id": "wZc6Y378hl8_"
      }
    },
    {
      "cell_type": "code",
      "source": [
        "from tensorflow.keras.callbacks import EarlyStopping\n",
        "\n",
        "#early_stop = EarlyStopping(monitor='val_accuracy', patience=3)\n",
        "#model.fit(x=scaled_X_train, y=y_train, epochs=300, validation_data=(scaled_X_test, y_test), callbacks=[early_stop])\n",
        "model.fit(x=scaled_X_train, y=y_train, epochs=300, validation_data=(scaled_X_test, y_test))"
      ],
      "metadata": {
        "id": "-ZRU0KvdHhcL"
      },
      "execution_count": null,
      "outputs": []
    },
    {
      "cell_type": "code",
      "source": [
        "metrics = pd.DataFrame(model.history.history)"
      ],
      "metadata": {
        "id": "8aNlgsM3Iag1"
      },
      "execution_count": null,
      "outputs": []
    },
    {
      "cell_type": "code",
      "source": [
        "metrics.head()"
      ],
      "metadata": {
        "id": "YK3S9mVvIfFU"
      },
      "execution_count": null,
      "outputs": []
    },
    {
      "cell_type": "code",
      "source": [
        "metrics[['accuracy', 'val_accuracy']].plot()"
      ],
      "metadata": {
        "id": "BwCaT7ZRIqr3"
      },
      "execution_count": null,
      "outputs": []
    },
    {
      "cell_type": "markdown",
      "source": [
        "Step 6 -  model verification"
      ],
      "metadata": {
        "id": "CA_512nohvRb"
      }
    },
    {
      "cell_type": "code",
      "source": [
        "model.evaluate(scaled_X_test,y_test,verbose=0)"
      ],
      "metadata": {
        "id": "Bi9Umok5I94e"
      },
      "execution_count": null,
      "outputs": []
    },
    {
      "cell_type": "code",
      "source": [
        "epochs = len(metrics)\n",
        "\n",
        "scaled_X = scaler.fit_transform(X)\n",
        "\n",
        "model = Sequential()\n",
        "model.add(Dense(units=4, activation='relu', input_shape=[4,]))\n",
        "\n",
        "model.add(Dense(units=3, activation='softmax'))\n",
        "model.compile(optimizer='adam', loss='categorical_crossentropy', metrics=['accuracy'])\n",
        "model.fit(scaled_X, y, epochs=epochs)\n",
        "\n",
        "\n",
        "model.save(\"final_iris_model.h5\")"
      ],
      "metadata": {
        "id": "SjYarIa5JXOO"
      },
      "execution_count": null,
      "outputs": []
    },
    {
      "cell_type": "code",
      "source": [
        "import joblib\n",
        "joblib.dump(scaler, 'iris_scaler.pkl')"
      ],
      "metadata": {
        "id": "8pCgr1YnLt20"
      },
      "execution_count": null,
      "outputs": []
    },
    {
      "cell_type": "markdown",
      "source": [
        "\n",
        "\n",
        "---\n",
        "\n",
        "\n",
        "**Testing and preparing deployment package**\n",
        "\n",
        "\n",
        "\n",
        "---\n",
        "\n"
      ],
      "metadata": {
        "id": "sDxKaMcUMKOq"
      }
    },
    {
      "cell_type": "code",
      "source": [
        "from tensorflow.keras.models import load_model\n",
        "\n",
        "flower_model = load_model('final_iris_model.h5')\n",
        "flower_scaler = joblib.load('iris_scaler.pkl')\n",
        "# kielich i płatki\n",
        "\n",
        "iris.head(1)\n",
        "flower_example={\"sepal_length\": 5.1,\n",
        "                \"sepal_width\": 3.1,\n",
        "                \"petal_length\": 1.4,\n",
        "                \"petal_width\": 0.2}\n"
      ],
      "metadata": {
        "id": "K_lITM46MhOb"
      },
      "execution_count": null,
      "outputs": []
    },
    {
      "cell_type": "code",
      "source": [
        "encoder.classes_"
      ],
      "metadata": {
        "id": "0wl0HgXQMxgU"
      },
      "execution_count": null,
      "outputs": []
    },
    {
      "cell_type": "code",
      "source": [
        "flower_example"
      ],
      "metadata": {
        "id": "8m20-6Z5O5gx"
      },
      "execution_count": null,
      "outputs": []
    },
    {
      "cell_type": "markdown",
      "source": [
        "Prediction function definition"
      ],
      "metadata": {
        "id": "s_fYTv2yNMkL"
      }
    },
    {
      "cell_type": "code",
      "source": [
        "def return_prediction(model, scaler, sample_json):\n",
        "    s_len = sample_json[\"sepal_length\"]\n",
        "    s_wid = sample_json[\"sepal_width\"]\n",
        "    p_len = sample_json[\"petal_length\"]\n",
        "    p_wid = sample_json[\"petal_width\"]\n",
        "\n",
        "    flower = [[s_len, s_wid, p_len, p_wid ]]\n",
        "\n",
        "    classes = np.array(('Iris-setosa', 'Iris-versicolor', 'Iris-virginica'))\n",
        "\n",
        "\n",
        "    flower =  scaler.transform(flower)\n",
        "    predict_x = model.predict(flower)\n",
        "    classes_ind = np.argmax(predict_x,axis=1)\n",
        "\n",
        "\n",
        "    return classes[classes_ind][0]\n",
        "\n"
      ],
      "metadata": {
        "id": "EHRfnvaaND40"
      },
      "execution_count": null,
      "outputs": []
    },
    {
      "cell_type": "code",
      "source": [
        "result = return_prediction(flower_model, flower_scaler, flower_example)\n",
        "result"
      ],
      "metadata": {
        "id": "64luIn0fNbMu"
      },
      "execution_count": null,
      "outputs": []
    },
    {
      "cell_type": "code",
      "source": [
        "flower = [[5.1, 3.1, 1.4, 0.2 ]]\n",
        "predict_x=model.predict(flower)\n",
        "classes_x=np.argmax(predict_x,axis=1)"
      ],
      "metadata": {
        "id": "o5kH8swvUgBb"
      },
      "execution_count": null,
      "outputs": []
    },
    {
      "cell_type": "code",
      "source": [
        "#['Iris-setosa', 'Iris-versicolor', 'Iris-virginica']\n",
        "\n",
        "classes_x[0]"
      ],
      "metadata": {
        "id": "QLm1UMF3eeXy",
        "outputId": "7cce951a-df08-41d8-8c9a-bdc292a61abd",
        "colab": {
          "base_uri": "https://localhost:8080/"
        }
      },
      "execution_count": null,
      "outputs": [
        {
          "output_type": "execute_result",
          "data": {
            "text/plain": [
              "0"
            ]
          },
          "metadata": {},
          "execution_count": 30
        }
      ]
    }
  ]
}