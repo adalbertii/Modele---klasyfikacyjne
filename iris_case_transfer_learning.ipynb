{
  "nbformat": 4,
  "nbformat_minor": 0,
  "metadata": {
    "colab": {
      "provenance": [],
      "authorship_tag": "ABX9TyPkuI3jpqGmECDSpa4ZSPOb",
      "include_colab_link": true
    },
    "kernelspec": {
      "name": "python3",
      "display_name": "Python 3"
    },
    "language_info": {
      "name": "python"
    }
  },
  "cells": [
    {
      "cell_type": "markdown",
      "metadata": {
        "id": "view-in-github",
        "colab_type": "text"
      },
      "source": [
        "<a href=\"https://colab.research.google.com/github/adalbertii/Modele-klasyfikacyjne/blob/main/iris_case_transfer_learning.ipynb\" target=\"_parent\"><img src=\"https://colab.research.google.com/assets/colab-badge.svg\" alt=\"Open In Colab\"/></a>"
      ]
    },
    {
      "cell_type": "code",
      "execution_count": 1,
      "metadata": {
        "colab": {
          "base_uri": "https://localhost:8080/"
        },
        "id": "PbtoAVqyjhMp",
        "outputId": "c43eb614-e7a4-4daf-9c78-3941afdf1989"
      },
      "outputs": [
        {
          "output_type": "stream",
          "name": "stdout",
          "text": [
            "Mounted at /content/drive\n"
          ]
        }
      ],
      "source": [
        "from google.colab import drive\n",
        "drive.mount('/content/drive')\n",
        "\n",
        "from tensorflow.keras.models import load_model\n",
        "from sklearn.model_selection import train_test_split\n",
        "from sklearn.preprocessing import MinMaxScaler\n",
        "from tensorflow.keras.models import Sequential\n",
        "from tensorflow.keras.layers import Dense\n"
      ]
    },
    {
      "cell_type": "code",
      "source": [
        "import joblib\n",
        "import numpy as np\n",
        "import warnings\n",
        "warnings.filterwarnings('ignore')"
      ],
      "metadata": {
        "id": "MfzRiWstlXHc"
      },
      "execution_count": 11,
      "outputs": []
    },
    {
      "cell_type": "code",
      "source": [
        "flower_model = load_model('/content/drive/MyDrive/dane/modele/final_iris_model.h5')\n",
        "flower_scaler = joblib.load('/content/drive/MyDrive/dane/modele/iris_scaler.pkl')"
      ],
      "metadata": {
        "id": "XYweg3FJkGF0"
      },
      "execution_count": 5,
      "outputs": []
    },
    {
      "cell_type": "code",
      "source": [
        "def return_prediction(model, scaler, sample_json):\n",
        "    s_len = sample_json[\"sepal_length\"]\n",
        "    s_wid = sample_json[\"sepal_width\"]\n",
        "    p_len = sample_json[\"petal_length\"]\n",
        "    p_wid = sample_json[\"petal_width\"]\n",
        "\n",
        "    flower = [[s_len, s_wid, p_len, p_wid ]]\n",
        "\n",
        "    classes = np.array(('Iris-setosa', 'Iris-versicolor', 'Iris-virginica'))\n",
        "\n",
        "\n",
        "    flower =  scaler.transform(flower)\n",
        "    predict_x = model.predict(flower)\n",
        "    classes_ind = np.argmax(predict_x,axis=1)\n",
        "\n",
        "\n",
        "    return classes[classes_ind][0]"
      ],
      "metadata": {
        "id": "DIkBNPo5kXHO"
      },
      "execution_count": 6,
      "outputs": []
    },
    {
      "cell_type": "code",
      "source": [
        "# kielich i płatki\n",
        "# przykład dla 'Iris-versicolor'\n",
        "flower_example={\"sepal_length\": 7.0,\n",
        "                \"sepal_width\": 3.2,\n",
        "                \"petal_length\": 4.7,\n",
        "                \"petal_width\": 1.4}"
      ],
      "metadata": {
        "id": "pi8Bkax6kZgc"
      },
      "execution_count": 7,
      "outputs": []
    },
    {
      "cell_type": "code",
      "source": [
        "result = return_prediction(flower_model, flower_scaler, flower_example)\n",
        "result"
      ],
      "metadata": {
        "colab": {
          "base_uri": "https://localhost:8080/",
          "height": 53
        },
        "id": "wRpIUYp0ki3u",
        "outputId": "903699fe-39fa-4267-c961-0ae0208e6dc7"
      },
      "execution_count": 12,
      "outputs": [
        {
          "output_type": "stream",
          "name": "stdout",
          "text": [
            "1/1 [==============================] - 0s 37ms/step\n"
          ]
        },
        {
          "output_type": "execute_result",
          "data": {
            "text/plain": [
              "'Iris-versicolor'"
            ],
            "application/vnd.google.colaboratory.intrinsic+json": {
              "type": "string"
            }
          },
          "metadata": {},
          "execution_count": 12
        }
      ]
    },
    {
      "cell_type": "code",
      "source": [
        "# przykład dla 'Iris-setosa'\n",
        "flower_example={\"sepal_length\": 5.5,\n",
        "                \"sepal_width\": 4.2,\n",
        "                \"petal_length\": 1.4,\n",
        "                \"petal_width\": 0.2}\n",
        "\n",
        "result = return_prediction(flower_model, flower_scaler, flower_example)\n",
        "result"
      ],
      "metadata": {
        "colab": {
          "base_uri": "https://localhost:8080/",
          "height": 53
        },
        "id": "c11kEWtElz7i",
        "outputId": "97486c66-d459-489b-aafd-f5a0c7965877"
      },
      "execution_count": 13,
      "outputs": [
        {
          "output_type": "stream",
          "name": "stdout",
          "text": [
            "1/1 [==============================] - 0s 20ms/step\n"
          ]
        },
        {
          "output_type": "execute_result",
          "data": {
            "text/plain": [
              "'Iris-setosa'"
            ],
            "application/vnd.google.colaboratory.intrinsic+json": {
              "type": "string"
            }
          },
          "metadata": {},
          "execution_count": 13
        }
      ]
    }
  ]
}