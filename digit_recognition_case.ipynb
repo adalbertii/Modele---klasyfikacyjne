{
  "nbformat": 4,
  "nbformat_minor": 0,
  "metadata": {
    "colab": {
      "provenance": [],
      "authorship_tag": "ABX9TyMYbK/09MJy5gvzJ4hQOyVO",
      "include_colab_link": true
    },
    "kernelspec": {
      "name": "python3",
      "display_name": "Python 3"
    },
    "language_info": {
      "name": "python"
    },
    "gpuClass": "standard"
  },
  "cells": [
    {
      "cell_type": "markdown",
      "metadata": {
        "id": "view-in-github",
        "colab_type": "text"
      },
      "source": [
        "<a href=\"https://colab.research.google.com/github/adalbertii/Modele-klasyfikacyjne/blob/main/digit_recognition_case.ipynb\" target=\"_parent\"><img src=\"https://colab.research.google.com/assets/colab-badge.svg\" alt=\"Open In Colab\"/></a>"
      ]
    },
    {
      "cell_type": "markdown",
      "source": [
        "\n",
        "\n",
        "**# Neuronowy model rozpoznawania odręcznie pisanych cyfr**\n"
      ],
      "metadata": {
        "id": "BJ21aHx3AVgD"
      }
    },
    {
      "cell_type": "code",
      "source": [
        "!pip install Pillow"
      ],
      "metadata": {
        "colab": {
          "base_uri": "https://localhost:8080/"
        },
        "id": "17oHIC5U_BAQ",
        "outputId": "7c298b33-dcb5-463f-c441-f7606f7c3d27"
      },
      "execution_count": null,
      "outputs": [
        {
          "output_type": "stream",
          "name": "stdout",
          "text": [
            "Requirement already satisfied: Pillow in /usr/local/lib/python3.10/dist-packages (9.4.0)\n"
          ]
        }
      ]
    },
    {
      "cell_type": "code",
      "execution_count": null,
      "metadata": {
        "id": "_IoOK4ZhAENT"
      },
      "outputs": [],
      "source": [
        "import numpy as np\n",
        "import matplotlib\n",
        "matplotlib.use('agg')\n",
        "import matplotlib.pyplot as plt\n",
        "from keras.datasets import mnist\n",
        "from keras.models import Sequential, load_model\n",
        "from keras.layers import Dense, Dropout, Activation\n",
        "from keras.utils import to_categorical\n",
        "import seaborn as sns\n",
        "from sklearn.metrics import ConfusionMatrixDisplay\n",
        "from sklearn.metrics import classification_report,confusion_matrix\n",
        "\n",
        "sns.set()\n",
        "from PIL import Image"
      ]
    },
    {
      "cell_type": "code",
      "source": [
        "# załądowanie danych\n",
        "# podział na dane treningowe i testowe\n",
        "(X_train, y_train), (X_test, y_test) = mnist.load_data()"
      ],
      "metadata": {
        "id": "q0-CkkH2DECM"
      },
      "execution_count": null,
      "outputs": []
    },
    {
      "cell_type": "code",
      "source": [
        "# sprawdzenie rozmiarów stworzonych podzbiorów\n",
        "X_train.shape, y_train.shape, X_test.shape,y_test.shape"
      ],
      "metadata": {
        "id": "rs7auT1iDKgZ"
      },
      "execution_count": null,
      "outputs": []
    },
    {
      "cell_type": "code",
      "source": [
        "X_train[0]"
      ],
      "metadata": {
        "id": "CcD8lY6vEq1B"
      },
      "execution_count": null,
      "outputs": []
    },
    {
      "cell_type": "code",
      "source": [
        "y_train[:10]"
      ],
      "metadata": {
        "id": "jxdfFOXMFDzR"
      },
      "execution_count": null,
      "outputs": []
    },
    {
      "cell_type": "code",
      "source": [
        "#przegląd przykładowych cyr w zbiorze uczącym\n",
        "fig = plt.figure()\n",
        "for i in range(9):\n",
        "  plt.subplot(3,3,i+1)\n",
        "  plt.tight_layout()\n",
        "  plt.imshow(X_train[i], cmap='gray', interpolation='none')\n",
        "  plt.title(\"Digit: {}\".format(y_train[i]))\n",
        "  plt.xticks([])\n",
        "  plt.yticks([])\n",
        "fig"
      ],
      "metadata": {
        "id": "PNBdGsuEFYWa"
      },
      "execution_count": null,
      "outputs": []
    },
    {
      "cell_type": "code",
      "source": [
        "# sprawdzenie rozkładu wartości pikseli\n",
        "fig = plt.figure(figsize=[10,8])\n",
        "plt.subplot(2,1,1)\n",
        "plt.imshow(X_train[3], cmap='gray', interpolation='none')\n",
        "plt.title(\"Digit: {}\".format(y_train[3]))\n",
        "plt.xticks([])\n",
        "plt.yticks([])\n",
        "plt.subplot(2,1,2)\n",
        "plt.hist(X_train[0].reshape(784))\n",
        "plt.title(\"Pixel Value Distribution\")\n",
        "fig"
      ],
      "metadata": {
        "id": "7B-7629SH6-a"
      },
      "execution_count": null,
      "outputs": []
    },
    {
      "cell_type": "code",
      "source": [
        "#sprawdzenie rozkładu unikalnych wartości zmiennej objaśnianej\n",
        "print(np.unique(y_train, return_counts=True))"
      ],
      "metadata": {
        "id": "g0-wlFPvJ7E_"
      },
      "execution_count": null,
      "outputs": []
    },
    {
      "cell_type": "code",
      "source": [
        "# kształt zbiorów danych przed procesem \"reshape\" i normalizacją\n",
        "print(\"X_train shape\", X_train.shape)\n",
        "print(\"y_train shape\", y_train.shape)\n",
        "print(\"X_test shape\", X_test.shape)\n",
        "print(\"y_test shape\", y_test.shape)"
      ],
      "metadata": {
        "id": "9WWAtyxy5m8-"
      },
      "execution_count": null,
      "outputs": []
    },
    {
      "cell_type": "code",
      "source": [
        "# zbudowanie spłaszconego wektora wejściowego sieci neuronowej z tablic 28x28 pixels (28x28=784)\n",
        "X_train = X_train.reshape(60000, 784)\n",
        "X_test = X_test.reshape(10000, 784)\n",
        "X_train = X_train.astype('float32')\n",
        "X_test = X_test.astype('float32')"
      ],
      "metadata": {
        "id": "aj0Gxttw5qyw"
      },
      "execution_count": null,
      "outputs": []
    },
    {
      "cell_type": "code",
      "source": [
        "print(\"shape of X_train:\", X_train.shape )\n",
        "print(\"shape of X_test:\", X_test.shape )"
      ],
      "metadata": {
        "id": "ppT9zs9Z6WXB"
      },
      "execution_count": null,
      "outputs": []
    },
    {
      "cell_type": "code",
      "source": [
        "# przeskalowanie danych wejściowych\n",
        "X_train /= 255\n",
        "X_test /= 255"
      ],
      "metadata": {
        "id": "S2Xg8DNz5t6j"
      },
      "execution_count": null,
      "outputs": []
    },
    {
      "cell_type": "code",
      "source": [
        "X_train[0]"
      ],
      "metadata": {
        "id": "zPjci3nT6xAS"
      },
      "execution_count": null,
      "outputs": []
    },
    {
      "cell_type": "code",
      "source": [
        "# wyświetlenie kszatłtu danych wejściowych (treniongowych i tesowych)\n",
        "print(\"Train matrix shape\", X_train.shape)\n",
        "print(\"Test matrix shape\", X_test.shape)"
      ],
      "metadata": {
        "id": "cCs5PxxSJCNV"
      },
      "execution_count": null,
      "outputs": []
    },
    {
      "cell_type": "code",
      "source": [
        "print(np.unique(y_train, return_counts=True))"
      ],
      "metadata": {
        "id": "4VnpC30OxDK5"
      },
      "execution_count": null,
      "outputs": []
    },
    {
      "cell_type": "code",
      "source": [
        "# zakodować nasze kategorie - cyfry od 0 do 9 - przy użyciu kodowania one-hot.\n",
        "n_classes = 10\n",
        "print(\"Kształt przed kodowaniem 0/1 : \", y_train.shape)"
      ],
      "metadata": {
        "id": "z3gHXpGG59pv"
      },
      "execution_count": null,
      "outputs": []
    },
    {
      "cell_type": "code",
      "source": [
        "# kategoryzacja zmiennej objaśnianej\n",
        "# Wynikiem jest wektor o długości równej liczbie kategorii.\n",
        "Y_train = to_categorical(y_train, n_classes)\n",
        "Y_test = to_categorical(y_test, n_classes)\n",
        "print(\"Kształt danych treningowych (zmiennej objaśnianej) PO kodowaniu 0/1: \", Y_train.shape)\n",
        "print(\"Kształt danych testowych (zmiennej objaśnianej) PO kodowaniu 0/1: \", Y_test.shape)"
      ],
      "metadata": {
        "id": "lIOraAheKaWy"
      },
      "execution_count": null,
      "outputs": []
    },
    {
      "cell_type": "code",
      "source": [
        "# label dla cyfry 5\n",
        "Y_train[0]"
      ],
      "metadata": {
        "id": "Wt3N2TQw7k7Q"
      },
      "execution_count": null,
      "outputs": []
    },
    {
      "cell_type": "markdown",
      "source": [
        "Step 5 - building neural network"
      ],
      "metadata": {
        "id": "lnjeLAzJKqx9"
      }
    },
    {
      "cell_type": "code",
      "source": [
        "# budowa modelu\n",
        "# omówić model!!!!\n",
        "model = Sequential()\n",
        "model.add(Dense(512, input_shape=(784,))) # input_shape<-----#########\n",
        "model.add(Activation('relu'))\n",
        "model.add(Dropout(0.2)) # Dropout<-----#########\n",
        "\n",
        "model.add(Dense(512))\n",
        "model.add(Activation('relu')) #relu <-----#########\n",
        "model.add(Dropout(0.2))\n",
        "\n",
        "model.add(Dense(10))\n",
        "model.add(Activation('softmax')) #softmax<-----#########"
      ],
      "metadata": {
        "id": "qlMOcP_JK9c7"
      },
      "execution_count": null,
      "outputs": []
    },
    {
      "cell_type": "code",
      "source": [
        "model.summary()"
      ],
      "metadata": {
        "id": "9DSuS8TfMtyK"
      },
      "execution_count": null,
      "outputs": []
    },
    {
      "cell_type": "code",
      "source": [
        "from tensorflow.keras.utils import plot_model\n",
        "plot_model(model, 'model_info.png', show_shapes=True)"
      ],
      "metadata": {
        "id": "obxtc3Phx0Sw"
      },
      "execution_count": null,
      "outputs": []
    },
    {
      "cell_type": "code",
      "source": [
        "# zapis topologii modelu do struktury JSON\n",
        "json_m = model.to_json()\n",
        "json_m"
      ],
      "metadata": {
        "id": "UO1VOJjJULs0"
      },
      "execution_count": null,
      "outputs": []
    },
    {
      "cell_type": "markdown",
      "source": [
        "Step 6 - compiling and training model"
      ],
      "metadata": {
        "id": "uHhnjYNYLUAE"
      }
    },
    {
      "cell_type": "code",
      "source": [
        "# lompilacja modelu\n",
        "model.compile(loss='categorical_crossentropy', metrics=['accuracy'], optimizer='adam')"
      ],
      "metadata": {
        "id": "p28d-PYXLacL"
      },
      "execution_count": null,
      "outputs": []
    },
    {
      "cell_type": "code",
      "source": [
        "# trenowanie modelu i zapis metryk procesu uczenia w zmiennej \"history'\n",
        "history = model.fit(X_train, Y_train,\n",
        "          batch_size=128, epochs=20,\n",
        "          verbose=1,\n",
        "          validation_data=(X_test, Y_test))"
      ],
      "metadata": {
        "id": "Otj8iHU8LnJ5"
      },
      "execution_count": null,
      "outputs": []
    },
    {
      "cell_type": "code",
      "source": [
        "# wykresy przebiegu zmiennej 'accuracy, oraz 'losss\n",
        "fig = plt.figure(figsize=(10,8))\n",
        "plt.subplot(2,1,1)\n",
        "plt.plot(history.history['accuracy'])\n",
        "plt.plot(history.history['val_accuracy'])\n",
        "plt.title('model accuracy')\n",
        "plt.ylabel('accuracy')\n",
        "plt.xlabel('epoch')\n",
        "plt.legend(['train', 'test'], loc='lower right')\n",
        "\n",
        "plt.subplot(2,1,2)\n",
        "plt.plot(history.history['loss'])\n",
        "plt.plot(history.history['val_loss'])\n",
        "plt.title('model loss')\n",
        "plt.ylabel('loss')\n",
        "plt.xlabel('epoch')\n",
        "plt.legend(['train', 'test'], loc='upper right')\n",
        "\n",
        "plt.tight_layout()\n",
        "\n",
        "fig"
      ],
      "metadata": {
        "id": "sNHy8sE9NGct"
      },
      "execution_count": null,
      "outputs": []
    },
    {
      "cell_type": "code",
      "source": [
        "#predykcja na danych testowych\n",
        "predicted_classes = model.predict(X_test)"
      ],
      "metadata": {
        "id": "bNBntSaDOixr"
      },
      "execution_count": null,
      "outputs": []
    },
    {
      "cell_type": "code",
      "source": [
        "np.set_printoptions(precision=5, suppress=True)\n"
      ],
      "metadata": {
        "id": "D3SLyFk6ULn7"
      },
      "execution_count": null,
      "outputs": []
    },
    {
      "cell_type": "code",
      "source": [
        "#weryfikacja wyników predykcji dla pojedynczego znaku\n",
        "#5, 10,20,50\n",
        "\n",
        "plt.rcParams['figure.figsize'] = (7,14)\n",
        "\n",
        "figure = plt.figure()\n",
        "plt.imshow(X_test[88].reshape(28,28), cmap='gray', interpolation='none')\n",
        "plt.title(\n",
        "      \"Predicted {}, Truth: {}\".format(predicted_classes[88],\n",
        "                                       y_test[88]))\n",
        "\n",
        "figure\n"
      ],
      "metadata": {
        "id": "s5XweN75TQLu"
      },
      "execution_count": null,
      "outputs": []
    },
    {
      "cell_type": "code",
      "source": [
        "# predykcja dla całego zbioru testowego\n",
        "Y_pred = model.predict(X_test)"
      ],
      "metadata": {
        "id": "qoevzvtPW7XJ"
      },
      "execution_count": null,
      "outputs": []
    },
    {
      "cell_type": "code",
      "source": [
        "Y_pred[5]"
      ],
      "metadata": {
        "id": "dN7gI2H70Ds5"
      },
      "execution_count": null,
      "outputs": []
    },
    {
      "cell_type": "code",
      "source": [
        "# sformatowanie tablic na potrzeby \"confusion_matrix\"\n",
        "Y_pred_classes =np.argmax(Y_pred, axis=1)\n",
        "Y_true= np.argmax(Y_test, axis=1)"
      ],
      "metadata": {
        "id": "0qMDQQM4W-Qv"
      },
      "execution_count": null,
      "outputs": []
    },
    {
      "cell_type": "code",
      "source": [
        "# Macierz konfuzji\n",
        "confusion_m= confusion_matrix(Y_true, Y_pred_classes)\n",
        "print(confusion_m)"
      ],
      "metadata": {
        "id": "cs2fA6XmXEUB"
      },
      "execution_count": null,
      "outputs": []
    },
    {
      "cell_type": "code",
      "source": [
        "plt.figure(figsize=(10,8))\n",
        "sns.heatmap(confusion_m, annot=True, linewidths=0.01,cmap=\"Greens\",linecolor=\"gray\", fmt= '.1f')\n",
        "plt.title(\"Heatmap dla predykcji na danych testowych\")\n",
        "plt.savefig(\"heatmap.png\")\n",
        "plt.show()"
      ],
      "metadata": {
        "id": "J3uUrmpuXz9V"
      },
      "execution_count": null,
      "outputs": []
    },
    {
      "cell_type": "code",
      "source": [
        "im = Image.open(\"heatmap.png\")\n",
        "im.show()"
      ],
      "metadata": {
        "id": "EaK167t9cd19"
      },
      "execution_count": null,
      "outputs": []
    },
    {
      "cell_type": "code",
      "source": [
        "# Raport klasyfikacji\n",
        "print(classification_report(Y_true, Y_pred_classes))"
      ],
      "metadata": {
        "id": "rSS9G1dw_FIZ"
      },
      "execution_count": null,
      "outputs": []
    },
    {
      "cell_type": "markdown",
      "source": [
        "**Precision** - ile obserwacji przewidywanych jako pozytywne są w rzeczywistości pozytywne\n",
        "\n",
        "**Recall** - jak wiele obserwacji z wszystkich poytywnych sklasyfikowaliśmy jako pozytywne\n"
      ],
      "metadata": {
        "id": "sqhbv1BqIkrp"
      }
    }
  ]
}